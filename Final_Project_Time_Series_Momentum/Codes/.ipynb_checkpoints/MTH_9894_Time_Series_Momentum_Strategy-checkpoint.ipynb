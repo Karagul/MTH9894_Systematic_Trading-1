{
 "cells": [
  {
   "cell_type": "markdown",
   "metadata": {},
   "source": [
    "## MTH 9894 Systematic Trading\n",
    "\n",
    "\n",
    "### Time Series Momentum Strategy\n",
    "\n",
    "\n",
    "#### Paper: Timer Series Momentum, Tobias, Yao, Lasse, 2012\n",
    "\n",
    "* Author: Hongchao Pan, Yu Sun\n",
    "* Kernel Version: Python 2.7\n",
    "* Packages: arch, numpy, stats, matplotlib, datetime\n",
    "* Data: 1998-2016\n",
    "* Notes:\n",
    "    * Test used data: 1998-2012, i.e., Ts=1998, Te=2012\n",
    "    * Validation used data: 2010-2016, i.e., Vs=2010, Ve=2016"
   ]
  },
  {
   "cell_type": "code",
   "execution_count": 1,
   "metadata": {
    "collapsed": false
   },
   "outputs": [],
   "source": [
    "# Load packages\n",
    "import numpy as np\n",
    "import pandas as pd\n",
    "import matplotlib.pyplot as plt\n",
    "from __future__ import division\n",
    "import statsmodels.formula.api as smf\n",
    "from pandas_datareader import data\n",
    "import datetime as dt\n",
    "import pandas as pd\n",
    "from datetime import timedelta\n",
    "import time\n",
    "from arch import arch_model\n",
    "import warnings\n"
   ]
  },
  {
   "cell_type": "code",
   "execution_count": 2,
   "metadata": {
    "collapsed": false
   },
   "outputs": [],
   "source": [
    "# Load local python file\n",
    "from Get_data import *\n",
    "# import all functions in Get_data.py file\n",
    "# Get_data.py file in the same directory with jupyter notebook"
   ]
  },
  {
   "cell_type": "code",
   "execution_count": 3,
   "metadata": {
    "collapsed": true
   },
   "outputs": [],
   "source": [
    "# Record the running time of the notebook\n",
    "startTALL=time.time()"
   ]
  },
  {
   "cell_type": "code",
   "execution_count": 4,
   "metadata": {
    "collapsed": false
   },
   "outputs": [
    {
     "data": {
      "text/html": [
       "<div>\n",
       "<table border=\"1\" class=\"dataframe\">\n",
       "  <thead>\n",
       "    <tr style=\"text-align: right;\">\n",
       "      <th></th>\n",
       "      <th>datetime</th>\n",
       "      <th>SP500</th>\n",
       "      <th>TOPIX</th>\n",
       "      <th>FTSE100</th>\n",
       "      <th>rf</th>\n",
       "    </tr>\n",
       "  </thead>\n",
       "  <tbody>\n",
       "    <tr>\n",
       "      <th>0</th>\n",
       "      <td>1998-01-02</td>\n",
       "      <td>0.005503</td>\n",
       "      <td>-0.000217</td>\n",
       "      <td>0.011077</td>\n",
       "      <td>0.000217</td>\n",
       "    </tr>\n",
       "    <tr>\n",
       "      <th>1</th>\n",
       "      <td>1998-01-05</td>\n",
       "      <td>0.002024</td>\n",
       "      <td>-0.007359</td>\n",
       "      <td>0.013075</td>\n",
       "      <td>0.000211</td>\n",
       "    </tr>\n",
       "    <tr>\n",
       "      <th>2</th>\n",
       "      <td>1998-01-06</td>\n",
       "      <td>-0.016321</td>\n",
       "      <td>-0.005336</td>\n",
       "      <td>0.000151</td>\n",
       "      <td>0.000210</td>\n",
       "    </tr>\n",
       "    <tr>\n",
       "      <th>3</th>\n",
       "      <td>1998-01-07</td>\n",
       "      <td>0.002878</td>\n",
       "      <td>0.002494</td>\n",
       "      <td>-0.007867</td>\n",
       "      <td>0.000212</td>\n",
       "    </tr>\n",
       "    <tr>\n",
       "      <th>4</th>\n",
       "      <td>1998-01-08</td>\n",
       "      <td>-0.013351</td>\n",
       "      <td>-0.000716</td>\n",
       "      <td>0.002279</td>\n",
       "      <td>0.000209</td>\n",
       "    </tr>\n",
       "  </tbody>\n",
       "</table>\n",
       "</div>"
      ],
      "text/plain": [
       "    datetime     SP500     TOPIX   FTSE100        rf\n",
       "0 1998-01-02  0.005503 -0.000217  0.011077  0.000217\n",
       "1 1998-01-05  0.002024 -0.007359  0.013075  0.000211\n",
       "2 1998-01-06 -0.016321 -0.005336  0.000151  0.000210\n",
       "3 1998-01-07  0.002878  0.002494 -0.007867  0.000212\n",
       "4 1998-01-08 -0.013351 -0.000716  0.002279  0.000209"
      ]
     },
     "execution_count": 4,
     "metadata": {},
     "output_type": "execute_result"
    }
   ],
   "source": [
    "# Get the excess return for test and validation data\n",
    "# Start/end date had been encoded in the Get_data.py file\n",
    "# Change it over there if you need\n",
    "df_excess_test, df_excess_validation=excess_return_annu()\n",
    "df_excess_test.head()"
   ]
  },
  {
   "cell_type": "markdown",
   "metadata": {},
   "source": [
    "### Regression Analysis\n",
    "Regress the excess return $r_t^s$ for instrument $s$ in month $t$ on its return lagged $h$ months.\n",
    "\n",
    "Returns are scales by their ex ante volatilities.\n",
    "\n",
    "$$\n",
    "r_t^s / \\sigma_{t-1}^s = \\alpha + \\beta_h\\,r_{t-h}^s / \\sigma_{t-h-1}^s + \\epsilon_{t}^s\n",
    "$$\n",
    "where annulized ex ante volatilities is calculated as follows:\n",
    "$$\n",
    "\\sigma_{t}^2 = 261\\sum_{i=0}^{\\infty}(1-\\delta)\\delta^i(r_{t-1-i} - \\bar{r_t})^2\n",
    "$$\n",
    "\n",
    "The regressions are run using lags $h = 1,2,...,60$ month."
   ]
  },
  {
   "cell_type": "markdown",
   "metadata": {},
   "source": [
    "### Annulized volatility\n",
    "\n",
    "* It is too slow to compute annulized vol form Python file and retrived here, since annulized excess return would be computed many times. Therefore, we will put computings in jupyter notebook."
   ]
  },
  {
   "cell_type": "code",
   "execution_count": 5,
   "metadata": {
    "collapsed": true
   },
   "outputs": [],
   "source": [
    "# Get the annulized excess return\n",
    "# Computation is slow for computing the vol\n",
    "#ex ante volatility estimate (Eq 1 in the paper)\n",
    "delta = 60/61\n",
    "sLength = len(df_excess_test['datetime'])\n",
    "colnames=df_excess_test.columns.values\n",
    "ind_vol=range(sLength)\n",
    "df_vol=pd.DataFrame(index=ind_vol,columns=colnames)\n",
    "df_vol=df_vol.fillna(0)\n",
    "df_vol['datetime']=df_excess_test['datetime']\n",
    "\n",
    "# Compute the vol matrix of all derivatives\n",
    "for k in range(1,(len(df_vol.columns)-1)):\n",
    "    rbar_list = [0]*sLength\n",
    "    for j in range(1,sLength - 299): \n",
    "        for i in range(0,300):\n",
    "            rbar_list[sLength-j] = rbar_list[sLength-j] + df_excess_test[colnames[k]][sLength-j-i]*(1-delta)*np.power(delta,i)\n",
    "    df_excess_test['rbar']=rbar_list\n",
    "    \n",
    "    vol_list = [0]*sLength\n",
    "    for j in range(1,sLength - 299):\n",
    "        for i in range(0,300):\n",
    "            vol_list[sLength-j] = vol_list[sLength-j] + np.power((df_excess_test[colnames[k]][sLength-j-1-i]-df_excess_test['rbar'][sLength-j-i]),2)*(1-delta)*np.power(delta,i)\n",
    "        vol_list[sLength-j] = np.sqrt(261*vol_list[sLength-j])\n",
    "    \n",
    "    df_vol[colnames[k]]=vol_list"
   ]
  },
  {
   "cell_type": "code",
   "execution_count": 6,
   "metadata": {
    "collapsed": false
   },
   "outputs": [
    {
     "data": {
      "text/html": [
       "<div>\n",
       "<table border=\"1\" class=\"dataframe\">\n",
       "  <thead>\n",
       "    <tr style=\"text-align: right;\">\n",
       "      <th></th>\n",
       "      <th>datetime</th>\n",
       "      <th>SP500</th>\n",
       "      <th>TOPIX</th>\n",
       "      <th>FTSE100</th>\n",
       "      <th>rf</th>\n",
       "    </tr>\n",
       "  </thead>\n",
       "  <tbody>\n",
       "    <tr>\n",
       "      <th>3761</th>\n",
       "      <td>2012-12-24</td>\n",
       "      <td>0.131912</td>\n",
       "      <td>0.152908</td>\n",
       "      <td>0.122179</td>\n",
       "      <td>0</td>\n",
       "    </tr>\n",
       "    <tr>\n",
       "      <th>3762</th>\n",
       "      <td>2012-12-26</td>\n",
       "      <td>0.131156</td>\n",
       "      <td>0.151682</td>\n",
       "      <td>0.121243</td>\n",
       "      <td>0</td>\n",
       "    </tr>\n",
       "    <tr>\n",
       "      <th>3763</th>\n",
       "      <td>2012-12-27</td>\n",
       "      <td>0.130389</td>\n",
       "      <td>0.151783</td>\n",
       "      <td>0.120230</td>\n",
       "      <td>0</td>\n",
       "    </tr>\n",
       "    <tr>\n",
       "      <th>3764</th>\n",
       "      <td>2012-12-28</td>\n",
       "      <td>0.129321</td>\n",
       "      <td>0.150960</td>\n",
       "      <td>0.119238</td>\n",
       "      <td>0</td>\n",
       "    </tr>\n",
       "    <tr>\n",
       "      <th>3765</th>\n",
       "      <td>2012-12-31</td>\n",
       "      <td>0.134209</td>\n",
       "      <td>0.150040</td>\n",
       "      <td>0.118702</td>\n",
       "      <td>0</td>\n",
       "    </tr>\n",
       "  </tbody>\n",
       "</table>\n",
       "</div>"
      ],
      "text/plain": [
       "       datetime     SP500     TOPIX   FTSE100  rf\n",
       "3761 2012-12-24  0.131912  0.152908  0.122179   0\n",
       "3762 2012-12-26  0.131156  0.151682  0.121243   0\n",
       "3763 2012-12-27  0.130389  0.151783  0.120230   0\n",
       "3764 2012-12-28  0.129321  0.150960  0.119238   0\n",
       "3765 2012-12-31  0.134209  0.150040  0.118702   0"
      ]
     },
     "execution_count": 6,
     "metadata": {},
     "output_type": "execute_result"
    }
   ],
   "source": [
    "df_vol.tail()"
   ]
  },
  {
   "cell_type": "code",
   "execution_count": 7,
   "metadata": {
    "collapsed": false
   },
   "outputs": [
    {
     "data": {
      "text/html": [
       "<div>\n",
       "<table border=\"1\" class=\"dataframe\">\n",
       "  <thead>\n",
       "    <tr style=\"text-align: right;\">\n",
       "      <th></th>\n",
       "      <th>SP500</th>\n",
       "      <th>TOPIX</th>\n",
       "      <th>FTSE100</th>\n",
       "      <th>rf</th>\n",
       "      <th>rbar</th>\n",
       "    </tr>\n",
       "    <tr>\n",
       "      <th>datetime</th>\n",
       "      <th></th>\n",
       "      <th></th>\n",
       "      <th></th>\n",
       "      <th></th>\n",
       "      <th></th>\n",
       "    </tr>\n",
       "  </thead>\n",
       "  <tbody>\n",
       "    <tr>\n",
       "      <th>1998-01-31</th>\n",
       "      <td>0.000308</td>\n",
       "      <td>0.002478</td>\n",
       "      <td>0.002794</td>\n",
       "      <td>0.000212</td>\n",
       "      <td>0.0</td>\n",
       "    </tr>\n",
       "    <tr>\n",
       "      <th>1998-02-28</th>\n",
       "      <td>0.003049</td>\n",
       "      <td>0.000321</td>\n",
       "      <td>0.002371</td>\n",
       "      <td>0.000213</td>\n",
       "      <td>0.0</td>\n",
       "    </tr>\n",
       "    <tr>\n",
       "      <th>1998-03-31</th>\n",
       "      <td>0.002333</td>\n",
       "      <td>-0.000910</td>\n",
       "      <td>0.001096</td>\n",
       "      <td>0.000216</td>\n",
       "      <td>0.0</td>\n",
       "    </tr>\n",
       "    <tr>\n",
       "      <th>1998-04-30</th>\n",
       "      <td>0.000198</td>\n",
       "      <td>-0.001093</td>\n",
       "      <td>-0.000200</td>\n",
       "      <td>0.000215</td>\n",
       "      <td>0.0</td>\n",
       "    </tr>\n",
       "    <tr>\n",
       "      <th>1998-05-31</th>\n",
       "      <td>-0.001469</td>\n",
       "      <td>-0.000118</td>\n",
       "      <td>-0.000672</td>\n",
       "      <td>0.000216</td>\n",
       "      <td>0.0</td>\n",
       "    </tr>\n",
       "  </tbody>\n",
       "</table>\n",
       "</div>"
      ],
      "text/plain": [
       "               SP500     TOPIX   FTSE100        rf  rbar\n",
       "datetime                                                \n",
       "1998-01-31  0.000308  0.002478  0.002794  0.000212   0.0\n",
       "1998-02-28  0.003049  0.000321  0.002371  0.000213   0.0\n",
       "1998-03-31  0.002333 -0.000910  0.001096  0.000216   0.0\n",
       "1998-04-30  0.000198 -0.001093 -0.000200  0.000215   0.0\n",
       "1998-05-31 -0.001469 -0.000118 -0.000672  0.000216   0.0"
      ]
     },
     "execution_count": 7,
     "metadata": {},
     "output_type": "execute_result"
    }
   ],
   "source": [
    "# Monthly excess return \n",
    "df_excess_test_M=df_excess_test\n",
    "df_excess_test_M.set_index('datetime',inplace=True)\n",
    "df_excess_test_M=df_excess_test_M.resample('M').mean()\n",
    "df_excess_test_M.head()"
   ]
  },
  {
   "cell_type": "code",
   "execution_count": 8,
   "metadata": {
    "collapsed": false
   },
   "outputs": [],
   "source": [
    "# Monthly vol\n",
    "df_vol_M=df_vol\n",
    "df_vol_M.set_index('datetime',inplace=True)\n",
    "df_vol_M=df_vol_M.resample('M').mean()"
   ]
  },
  {
   "cell_type": "code",
   "execution_count": 9,
   "metadata": {
    "collapsed": false
   },
   "outputs": [
    {
     "data": {
      "text/html": [
       "<div>\n",
       "<table border=\"1\" class=\"dataframe\">\n",
       "  <thead>\n",
       "    <tr style=\"text-align: right;\">\n",
       "      <th></th>\n",
       "      <th>SP500</th>\n",
       "      <th>TOPIX</th>\n",
       "      <th>FTSE100</th>\n",
       "    </tr>\n",
       "    <tr>\n",
       "      <th>datetime</th>\n",
       "      <th></th>\n",
       "      <th></th>\n",
       "      <th></th>\n",
       "    </tr>\n",
       "  </thead>\n",
       "  <tbody>\n",
       "    <tr>\n",
       "      <th>1998-01-31</th>\n",
       "      <td>0.000308</td>\n",
       "      <td>0.002478</td>\n",
       "      <td>0.002794</td>\n",
       "    </tr>\n",
       "    <tr>\n",
       "      <th>1998-02-28</th>\n",
       "      <td>0.003049</td>\n",
       "      <td>0.000321</td>\n",
       "      <td>0.002371</td>\n",
       "    </tr>\n",
       "    <tr>\n",
       "      <th>1998-03-31</th>\n",
       "      <td>0.002333</td>\n",
       "      <td>-0.000910</td>\n",
       "      <td>0.001096</td>\n",
       "    </tr>\n",
       "    <tr>\n",
       "      <th>1998-04-30</th>\n",
       "      <td>0.000198</td>\n",
       "      <td>-0.001093</td>\n",
       "      <td>-0.000200</td>\n",
       "    </tr>\n",
       "    <tr>\n",
       "      <th>1998-05-31</th>\n",
       "      <td>-0.001469</td>\n",
       "      <td>-0.000118</td>\n",
       "      <td>-0.000672</td>\n",
       "    </tr>\n",
       "  </tbody>\n",
       "</table>\n",
       "</div>"
      ],
      "text/plain": [
       "               SP500     TOPIX   FTSE100\n",
       "datetime                                \n",
       "1998-01-31  0.000308  0.002478  0.002794\n",
       "1998-02-28  0.003049  0.000321  0.002371\n",
       "1998-03-31  0.002333 -0.000910  0.001096\n",
       "1998-04-30  0.000198 -0.001093 -0.000200\n",
       "1998-05-31 -0.001469 -0.000118 -0.000672"
      ]
     },
     "execution_count": 9,
     "metadata": {},
     "output_type": "execute_result"
    }
   ],
   "source": [
    "# Aggregate all data of equity index futures\n",
    "# Monthly data frame of returns\n",
    "#eq2_rM=df_excess_test_M.drop(['MKT','BOND','GSCI','SMB','HML','UMD','rbar','rf'],axis=1)\n",
    "eq2_rM=df_excess_test_M.drop(['rbar','rf'],axis=1)\n",
    "# Monthly data frame of vols\n",
    "eq2_volM=df_vol_M.drop(['rf'],axis=1)\n",
    "eq2_rM.head()"
   ]
  },
  {
   "cell_type": "code",
   "execution_count": 10,
   "metadata": {
    "collapsed": false
   },
   "outputs": [
    {
     "data": {
      "text/html": [
       "<div>\n",
       "<table border=\"1\" class=\"dataframe\">\n",
       "  <thead>\n",
       "    <tr style=\"text-align: right;\">\n",
       "      <th></th>\n",
       "      <th>SP500</th>\n",
       "      <th>TOPIX</th>\n",
       "      <th>FTSE100</th>\n",
       "      <th>AvgVol</th>\n",
       "    </tr>\n",
       "    <tr>\n",
       "      <th>datetime</th>\n",
       "      <th></th>\n",
       "      <th></th>\n",
       "      <th></th>\n",
       "      <th></th>\n",
       "    </tr>\n",
       "  </thead>\n",
       "  <tbody>\n",
       "    <tr>\n",
       "      <th>2012-08-31</th>\n",
       "      <td>0.164443</td>\n",
       "      <td>0.166232</td>\n",
       "      <td>0.163390</td>\n",
       "      <td>0.164688</td>\n",
       "    </tr>\n",
       "    <tr>\n",
       "      <th>2012-09-30</th>\n",
       "      <td>0.148675</td>\n",
       "      <td>0.162136</td>\n",
       "      <td>0.152031</td>\n",
       "      <td>0.154281</td>\n",
       "    </tr>\n",
       "    <tr>\n",
       "      <th>2012-10-31</th>\n",
       "      <td>0.137451</td>\n",
       "      <td>0.158769</td>\n",
       "      <td>0.142191</td>\n",
       "      <td>0.146137</td>\n",
       "    </tr>\n",
       "    <tr>\n",
       "      <th>2012-11-30</th>\n",
       "      <td>0.141241</td>\n",
       "      <td>0.157402</td>\n",
       "      <td>0.138381</td>\n",
       "      <td>0.145674</td>\n",
       "    </tr>\n",
       "    <tr>\n",
       "      <th>2012-12-31</th>\n",
       "      <td>0.133510</td>\n",
       "      <td>0.150759</td>\n",
       "      <td>0.127567</td>\n",
       "      <td>0.137279</td>\n",
       "    </tr>\n",
       "  </tbody>\n",
       "</table>\n",
       "</div>"
      ],
      "text/plain": [
       "               SP500     TOPIX   FTSE100    AvgVol\n",
       "datetime                                          \n",
       "2012-08-31  0.164443  0.166232  0.163390  0.164688\n",
       "2012-09-30  0.148675  0.162136  0.152031  0.154281\n",
       "2012-10-31  0.137451  0.158769  0.142191  0.146137\n",
       "2012-11-30  0.141241  0.157402  0.138381  0.145674\n",
       "2012-12-31  0.133510  0.150759  0.127567  0.137279"
      ]
     },
     "execution_count": 10,
     "metadata": {},
     "output_type": "execute_result"
    }
   ],
   "source": [
    "# Sum based on the row\n",
    "eq2_rM['SumReturn']=eq2_rM.sum(axis=1)\n",
    "eq2_rM.head()\n",
    "eq2_volM['AvgVol']=(eq2_volM.sum(axis=1))/3\n",
    "eq2_volM.tail()"
   ]
  },
  {
   "cell_type": "markdown",
   "metadata": {},
   "source": [
    "### Daily data for Equation 2"
   ]
  },
  {
   "cell_type": "code",
   "execution_count": 11,
   "metadata": {
    "collapsed": false
   },
   "outputs": [
    {
     "data": {
      "image/png": "[encoded data removed]",
      "text/plain": [
       "<matplotlib.figure.Figure at 0x11471ae90>"
      ]
     },
     "metadata": {},
     "output_type": "display_data"
    }
   ],
   "source": [
    "# Aggregated\n",
    "#r/sigma for eq.2\n",
    "sLength=len(df_excess_test.index)\n",
    "scale_rate_list = [0]*(sLength-302)\n",
    "for k in range(0 , sLength - 302):\n",
    "    scale_rate_list[k] = df_excess_test['SP500'][301+k]/df_vol['SP500'][300+k] + \\\n",
    "                            df_excess_test['TOPIX'][301+k]/df_vol['TOPIX'][300+k] + \\\n",
    "                            df_excess_test['FTSE100'][301+k]/df_vol['FTSE100'][300+k]\n",
    "    \n",
    "\n",
    "tstat = [0]*60\n",
    "for i in range (1,61):\n",
    "    h = 22*i #assume 22 days per month\n",
    "    X = scale_rate_list[0:(sLength-302-h)] #lagged excess return as predictor\n",
    "    Y = scale_rate_list[h:(sLength-302)]\n",
    "    # Create linear regression \n",
    "    data = pd.DataFrame({'x': X, 'y': Y})\n",
    "    model = smf.gls(\"y ~ x\", data).fit()\n",
    "    tstat[i-1] = model.tvalues[1]\n",
    "    #print(model.summary()) \n",
    "\n",
    "plt.bar(np.arange(len(tstat)),tstat)\n",
    "plt.xlabel('Lagged Month')\n",
    "plt.ylabel('T stats')\n",
    "plt.title(\"Aggregated Equity with Daily Data \")\n",
    "# Store the test file in the folder \"Images\" located on the uplevel\n",
    "# Change to \"../Images_validation/Equity_Daily\" folder for contains the validation pictures\n",
    "# All pictures follow the procedure, unless otherwise stated.\n",
    "plt.savefig(\"../Images/Equity_Daily\")\n",
    "plt.show()"
   ]
  },
  {
   "cell_type": "markdown",
   "metadata": {},
   "source": [
    "Equity index futures $t$-statistic figure"
   ]
  },
  {
   "cell_type": "code",
   "execution_count": 12,
   "metadata": {
    "collapsed": false
   },
   "outputs": [
    {
     "data": {
      "image/png": "[encoded data removed]",
      "text/plain": [
       "<matplotlib.figure.Figure at 0x11485b750>"
      ]
     },
     "metadata": {},
     "output_type": "display_data"
    }
   ],
   "source": [
    "# SP500\n",
    "# #r/sigma for eq.2\n",
    "sLength=len(df_excess_test.index)\n",
    "scale_rate_list = [0]*(sLength-302)\n",
    "for k in range(0 , sLength - 302):\n",
    "    scale_rate_list[k] = df_excess_test['SP500'][301+k]/df_vol['SP500'][300+k]\n",
    "    \n",
    "tstat = [0]*60\n",
    "for i in range (1,61):\n",
    "    h = 22*i #assume 22 days per month\n",
    "    X = scale_rate_list[0:(sLength-302-h)] #lagged excess return as predictor\n",
    "    Y = scale_rate_list[h:(sLength-302)]\n",
    "    # Create linear regression \n",
    "    data = pd.DataFrame({'x': X, 'y': Y})\n",
    "    model = smf.gls(\"y ~ x\", data).fit()\n",
    "    tstat[i-1] = model.tvalues[1]\n",
    "    #print(model.summary()) \n",
    "\n",
    "plt.bar(np.arange(len(tstat)),tstat)\n",
    "plt.xlabel('Lagged Month')\n",
    "plt.ylabel('T stats')\n",
    "plt.title(\"SP500 Daily data\")\n",
    "plt.savefig(\"../Images/SP500_daily\")\n",
    "plt.show()"
   ]
  },
  {
   "cell_type": "markdown",
   "metadata": {},
   "source": [
    "SP500 regression $t-$statistic figure"
   ]
  },
  {
   "cell_type": "code",
   "execution_count": 13,
   "metadata": {
    "collapsed": false
   },
   "outputs": [
    {
     "data": {
      "image/png": "[encoded data removed]",
      "text/plain": [
       "<matplotlib.figure.Figure at 0x115dce250>"
      ]
     },
     "metadata": {},
     "output_type": "display_data"
    }
   ],
   "source": [
    "# TOPIX\n",
    "# #r/sigma for eq.2\n",
    "sLength=len(df_excess_test.index)\n",
    "scale_rate_list = [0]*(sLength-302)\n",
    "for k in range(0 , sLength - 302):\n",
    "    scale_rate_list[k] = df_excess_test['TOPIX'][301+k]/df_vol['TOPIX'][300+k]\n",
    "    \n",
    "\n",
    "tstat = [0]*60\n",
    "for i in range (1,61):\n",
    "    h = 22*i #assume 22 days per month\n",
    "    X = scale_rate_list[0:(sLength-302-h)] #lagged excess return as predictor\n",
    "    Y = scale_rate_list[h:(sLength-302)]\n",
    "    # Create linear regression \n",
    "    data = pd.DataFrame({'x': X, 'y': Y})\n",
    "    model = smf.gls(\"y ~ x\", data).fit()\n",
    "    tstat[i-1] = model.tvalues[1]\n",
    "    #print(model.summary()) \n",
    "\n",
    "plt.bar(np.arange(len(tstat)),tstat)\n",
    "plt.xlabel('Lagged Month')\n",
    "plt.ylabel('T stats')\n",
    "plt.title(\"TOPIX Daily data\")\n",
    "plt.savefig(\"../Images/TOPIX_daily\")\n",
    "plt.show()"
   ]
  },
  {
   "cell_type": "code",
   "execution_count": 14,
   "metadata": {
    "collapsed": false
   },
   "outputs": [
    {
     "data": {
      "image/png": "[encoded data removed]",
      "text/plain": [
       "<matplotlib.figure.Figure at 0x115f63690>"
      ]
     },
     "metadata": {},
     "output_type": "display_data"
    }
   ],
   "source": [
    "# FTSE\n",
    "# #r/sigma for eq.2\n",
    "sLength=len(df_excess_test.index)\n",
    "scale_rate_list = [0]*(sLength-302)\n",
    "for k in range(0 , sLength - 302):\n",
    "    scale_rate_list[k] = df_excess_test['FTSE100'][301+k]/df_vol['FTSE100'][300+k]\n",
    "    \n",
    "\n",
    "tstat = [0]*60\n",
    "for i in range (1,61):\n",
    "    h = 22*i #assume 22 days per month\n",
    "    X = scale_rate_list[0:(sLength-302-h)] #lagged excess return as predictor\n",
    "    Y = scale_rate_list[h:(sLength-302)]\n",
    "    # Create linear regression \n",
    "    data = pd.DataFrame({'x': X, 'y': Y})\n",
    "    model = smf.gls(\"y ~ x\", data).fit()\n",
    "    tstat[i-1] = model.tvalues[1]\n",
    "    #print(model.summary()) \n",
    "\n",
    "plt.bar(np.arange(len(tstat)),tstat)\n",
    "plt.xlabel('Lagged Month')\n",
    "plt.ylabel('T stats')\n",
    "plt.title(\"FTSE100 Daily data\")\n",
    "plt.savefig(\"../Images/FTSE100_daily\")\n",
    "plt.show()"
   ]
  },
  {
   "cell_type": "markdown",
   "metadata": {},
   "source": [
    "### Monthly Data for Equation 2"
   ]
  },
  {
   "cell_type": "code",
   "execution_count": 15,
   "metadata": {
    "collapsed": false
   },
   "outputs": [
    {
     "data": {
      "image/png": "[encoded data removed]",
      "text/plain": [
       "<matplotlib.figure.Figure at 0x11471a0d0>"
      ]
     },
     "metadata": {},
     "output_type": "display_data"
    }
   ],
   "source": [
    "# Sum based on the row\n",
    "#eq2_rM['SumReturn']=eq2_rM.sum(axis=1)\n",
    "#eq2_rM.head()\n",
    "#eq2_volM['AvgVol']=(eq2_volM.sum(axis=1))/3\n",
    "#eq2_volM.tail()\n",
    "# Defind function to implement equation 2 in the paper\n",
    "RV_ratio = [0]*(len(eq2_volM['AvgVol'])-15)\n",
    "SP_RV_ratio = [0]*(len(eq2_volM['AvgVol'])-15)\n",
    "TOPIX_RV_ratio = [0]*(len(eq2_volM['AvgVol'])-15)\n",
    "FTSE_RV_ratio = [0]*(len(eq2_volM['AvgVol'])-15)\n",
    "\n",
    "for i in range(0,len(eq2_volM['AvgVol'])-15):\n",
    "    RV_ratio[i]=eq2_rM['SumReturn'][i+15]/eq2_volM['AvgVol'][i+14]\n",
    "    SP_RV_ratio[i]=eq2_rM['SP500'][i+15]/eq2_volM['SP500'][i+14]\n",
    "    TOPIX_RV_ratio[i]=eq2_rM['TOPIX'][i+15]/eq2_volM['TOPIX'][i+14]\n",
    "    FTSE_RV_ratio[i]=eq2_rM['FTSE100'][i+15]/eq2_volM['FTSE100'][i+14]\n",
    "\n",
    "# Aggregated \n",
    "#test Equity Index monthly data\n",
    "tstat = [0]*60\n",
    "for h in range (1,61): \n",
    "    X = RV_ratio[0:(len(RV_ratio)-h)] #lagged excess return as predictor\n",
    "    Y = RV_ratio[h:len(RV_ratio)]\n",
    "    # Create linear regression \n",
    "    data = pd.DataFrame({'x': X, 'y': Y})\n",
    "    model = smf.gls(\"y ~ x\", data).fit()\n",
    "    tstat[h-1] = model.tvalues[1]\n",
    "    #print(model.summary()) \n",
    "\n",
    "plt.bar(np.arange(len(tstat)),tstat)\n",
    "plt.xlabel('Lagged Month')\n",
    "plt.ylabel('T stats')\n",
    "plt.title(\"Aggregated Monthly Equity data\")\n",
    "plt.savefig(\"../Images/Aggregated_Monthly_Equity\")\n",
    "plt.show()\n"
   ]
  },
  {
   "cell_type": "code",
   "execution_count": 16,
   "metadata": {
    "collapsed": false
   },
   "outputs": [
    {
     "data": {
      "image/png": "[encoded data removed]",
      "text/plain": [
       "<matplotlib.figure.Figure at 0x114534410>"
      ]
     },
     "metadata": {},
     "output_type": "display_data"
    }
   ],
   "source": [
    "# SP500 \n",
    "tstat = [0]*60\n",
    "for h in range (1,61):\n",
    "    X = SP_RV_ratio[0:(len(RV_ratio)-h)] #lagged excess return as predictor\n",
    "    Y = SP_RV_ratio[h:len(RV_ratio)]\n",
    "    # Create linear regression \n",
    "    data = pd.DataFrame({'x': X, 'y': Y})\n",
    "    model = smf.gls(\"y ~ x\", data).fit()\n",
    "    tstat[h-1] = model.tvalues[1]\n",
    "    #print(model.summary()) \n",
    "\n",
    "plt.bar(np.arange(len(tstat)),tstat)\n",
    "plt.xlabel('Lagged Month')\n",
    "plt.ylabel('T stats')\n",
    "plt.title(\"SP500 Monthly data\")\n",
    "plt.savefig(\"../Images/SP500_monthly\")\n",
    "plt.show()\n"
   ]
  },
  {
   "cell_type": "code",
   "execution_count": 17,
   "metadata": {
    "collapsed": false
   },
   "outputs": [
    {
     "data": {
      "image/png": "[encoded data removed]",
      "text/plain": [
       "<matplotlib.figure.Figure at 0x1146da410>"
      ]
     },
     "metadata": {},
     "output_type": "display_data"
    }
   ],
   "source": [
    "# TOPIX\n",
    "tstat = [0]*60\n",
    "for h in range (1,61):\n",
    "    X = TOPIX_RV_ratio[0:(len(RV_ratio)-h)] #lagged excess return as predictor\n",
    "    Y = TOPIX_RV_ratio[h:len(RV_ratio)]\n",
    "    # Create linear regression \n",
    "    data = pd.DataFrame({'x': X, 'y': Y})\n",
    "    model = smf.gls(\"y ~ x\", data).fit()\n",
    "    tstat[h-1] = model.tvalues[1]\n",
    "    #print(model.summary()) \n",
    "\n",
    "plt.bar(np.arange(len(tstat)),tstat)\n",
    "plt.xlabel('Lagged Month')\n",
    "plt.ylabel('T stats')\n",
    "plt.title(\"TOPIX Monthly data\")\n",
    "plt.savefig(\"../Images/TOPIX_monthly\")\n",
    "plt.show()\n"
   ]
  },
  {
   "cell_type": "code",
   "execution_count": 18,
   "metadata": {
    "collapsed": false
   },
   "outputs": [
    {
     "data": {
      "image/png": "[encoded data removed]",
      "text/plain": [
       "<matplotlib.figure.Figure at 0x1162e6a10>"
      ]
     },
     "metadata": {},
     "output_type": "display_data"
    }
   ],
   "source": [
    "# FTSE\n",
    "tstat = [0]*60\n",
    "for h in range (1,61):\n",
    "    X = FTSE_RV_ratio[0:(len(RV_ratio)-h)] #lagged excess return as predictor\n",
    "    Y = FTSE_RV_ratio[h:len(RV_ratio)]\n",
    "    # Create linear regression \n",
    "    data = pd.DataFrame({'x': X, 'y': Y})\n",
    "    model = smf.gls(\"y ~ x\", data).fit()\n",
    "    tstat[h-1] = model.tvalues[1]\n",
    "    #print(model.summary()) \n",
    "\n",
    "plt.bar(np.arange(len(tstat)),tstat)\n",
    "plt.xlabel('Lagged Month')\n",
    "plt.ylabel('T stats')\n",
    "plt.title(\"FTSE Monthly data\")\n",
    "plt.savefig(\"../Images/FTSE_monthly\")\n",
    "plt.show()\n"
   ]
  },
  {
   "cell_type": "markdown",
   "metadata": {},
   "source": [
    "## Implementation of Equation 4 in the paper"
   ]
  },
  {
   "cell_type": "code",
   "execution_count": 19,
   "metadata": {
    "collapsed": false,
    "scrolled": true
   },
   "outputs": [],
   "source": [
    "# Get regressors (indipendent variables) from defined function df_eq4() in Get_data.py file\n",
    "eq4_others=df_eq4()\n",
    "eq4_others.columns=['datetime','MKT','BOND','GSCI','SMB','HML','UMD']"
   ]
  },
  {
   "cell_type": "code",
   "execution_count": 20,
   "metadata": {
    "collapsed": false
   },
   "outputs": [
    {
     "data": {
      "text/html": [
       "<div>\n",
       "<table border=\"1\" class=\"dataframe\">\n",
       "  <thead>\n",
       "    <tr style=\"text-align: right;\">\n",
       "      <th></th>\n",
       "      <th>datetime</th>\n",
       "      <th>SP500</th>\n",
       "      <th>TOPIX</th>\n",
       "      <th>FTSE100</th>\n",
       "      <th>rf</th>\n",
       "      <th>rbar</th>\n",
       "      <th>MKT</th>\n",
       "      <th>BOND</th>\n",
       "      <th>GSCI</th>\n",
       "      <th>SMB</th>\n",
       "      <th>HML</th>\n",
       "      <th>UMD</th>\n",
       "    </tr>\n",
       "  </thead>\n",
       "  <tbody>\n",
       "    <tr>\n",
       "      <th>0</th>\n",
       "      <td>1998-01-02</td>\n",
       "      <td>0.005503</td>\n",
       "      <td>-0.000217</td>\n",
       "      <td>0.011077</td>\n",
       "      <td>0.000217</td>\n",
       "      <td>0.0</td>\n",
       "      <td>938.671</td>\n",
       "      <td>105.281</td>\n",
       "      <td>3019.39</td>\n",
       "      <td>-0.05</td>\n",
       "      <td>-0.46</td>\n",
       "      <td>-1.27</td>\n",
       "    </tr>\n",
       "    <tr>\n",
       "      <th>1</th>\n",
       "      <td>1998-01-05</td>\n",
       "      <td>0.002024</td>\n",
       "      <td>-0.007359</td>\n",
       "      <td>0.013075</td>\n",
       "      <td>0.000211</td>\n",
       "      <td>0.0</td>\n",
       "      <td>939.987</td>\n",
       "      <td>105.909</td>\n",
       "      <td>2991.11</td>\n",
       "      <td>0.08</td>\n",
       "      <td>-0.30</td>\n",
       "      <td>-0.13</td>\n",
       "    </tr>\n",
       "    <tr>\n",
       "      <th>2</th>\n",
       "      <td>1998-01-06</td>\n",
       "      <td>-0.016321</td>\n",
       "      <td>-0.005336</td>\n",
       "      <td>0.000151</td>\n",
       "      <td>0.000210</td>\n",
       "      <td>0.0</td>\n",
       "      <td>932.013</td>\n",
       "      <td>105.977</td>\n",
       "      <td>2979.06</td>\n",
       "      <td>0.24</td>\n",
       "      <td>0.23</td>\n",
       "      <td>0.12</td>\n",
       "    </tr>\n",
       "    <tr>\n",
       "      <th>3</th>\n",
       "      <td>1998-01-07</td>\n",
       "      <td>0.002878</td>\n",
       "      <td>0.002494</td>\n",
       "      <td>-0.007867</td>\n",
       "      <td>0.000212</td>\n",
       "      <td>0.0</td>\n",
       "      <td>930.175</td>\n",
       "      <td>105.723</td>\n",
       "      <td>2967.46</td>\n",
       "      <td>-0.39</td>\n",
       "      <td>-0.10</td>\n",
       "      <td>-0.42</td>\n",
       "    </tr>\n",
       "    <tr>\n",
       "      <th>4</th>\n",
       "      <td>1998-01-08</td>\n",
       "      <td>-0.013351</td>\n",
       "      <td>-0.000716</td>\n",
       "      <td>0.002279</td>\n",
       "      <td>0.000209</td>\n",
       "      <td>0.0</td>\n",
       "      <td>923.243</td>\n",
       "      <td>106.055</td>\n",
       "      <td>2945.34</td>\n",
       "      <td>0.34</td>\n",
       "      <td>-0.25</td>\n",
       "      <td>-0.09</td>\n",
       "    </tr>\n",
       "  </tbody>\n",
       "</table>\n",
       "</div>"
      ],
      "text/plain": [
       "    datetime     SP500     TOPIX   FTSE100        rf  rbar      MKT     BOND  \\\n",
       "0 1998-01-02  0.005503 -0.000217  0.011077  0.000217   0.0  938.671  105.281   \n",
       "1 1998-01-05  0.002024 -0.007359  0.013075  0.000211   0.0  939.987  105.909   \n",
       "2 1998-01-06 -0.016321 -0.005336  0.000151  0.000210   0.0  932.013  105.977   \n",
       "3 1998-01-07  0.002878  0.002494 -0.007867  0.000212   0.0  930.175  105.723   \n",
       "4 1998-01-08 -0.013351 -0.000716  0.002279  0.000209   0.0  923.243  106.055   \n",
       "\n",
       "      GSCI   SMB   HML   UMD  \n",
       "0  3019.39 -0.05 -0.46 -1.27  \n",
       "1  2991.11  0.08 -0.30 -0.13  \n",
       "2  2979.06  0.24  0.23  0.12  \n",
       "3  2967.46 -0.39 -0.10 -0.42  \n",
       "4  2945.34  0.34 -0.25 -0.09  "
      ]
     },
     "execution_count": 20,
     "metadata": {},
     "output_type": "execute_result"
    }
   ],
   "source": [
    "# Merge the data with excess return\n",
    "df_excess_test.reset_index(inplace=True)\n",
    "df_eq4=df_excess_test.merge(eq4_others,on='datetime',how='inner').dropna()\n",
    "df_eq4.head()"
   ]
  },
  {
   "cell_type": "code",
   "execution_count": 21,
   "metadata": {
    "collapsed": false
   },
   "outputs": [],
   "source": [
    "def eq4_regression(km,hm,name):\n",
    "    '''\n",
    "    :param km: look-back period\n",
    "    :param hm: holding period\n",
    "    :param name: equity index future name\n",
    "    return: alpha factor\n",
    "    '''\n",
    "    # Fix hm=1\n",
    "    T=len(df_eq4.index) # Total days\n",
    "    x=int(np.floor(T/22-km))  # Maximum dataset\n",
    "    \n",
    "    k=km*22 # convert the month to days\n",
    "    \n",
    "    profit=[]\n",
    "    ind_others=[]\n",
    "    for h in range(1,x+1):\n",
    "        # h with unit month\n",
    "        i=h*22 # convert the month to days\n",
    "#        print(np.sum(df_eq4['SP500'][(T-k-i):(T-i)]))\n",
    "        if(np.sum(df_eq4[name][(T-k-i):(T-i)])>0):\n",
    "            profit.append(df_eq4[name][T-(i-1)]-df_eq4[name][T-i])\n",
    "        if(np.sum(df_eq4[name][(T-k-i):(T-i)])<0):\n",
    "            profit.append(-(df_eq4[name][T-(i-1)]-df_eq4[name][T-i]))\n",
    "    \n",
    "        ind_others.append(T-(i-1))\n",
    "    return profit, ind_others\n",
    "    # The returned data frame from largest T to smallest T-(k+x)*22\n",
    "    "
   ]
  },
  {
   "cell_type": "code",
   "execution_count": 22,
   "metadata": {
    "collapsed": false
   },
   "outputs": [],
   "source": [
    "# Define a function for the regression of equation 4\n",
    "def eq4_regress(kl,hl,name):\n",
    "    '''\n",
    "    :param kl: list of k\n",
    "    :param hl: list of h\n",
    "    :param name: equity index future name\n",
    "    '''\n",
    "#    kl=[6,9,12,24]\n",
    "#    hl=[1,1,1,1]\n",
    "    n=len(kl) # Number of combinations\n",
    "    alpha=[0]*n\n",
    "    for i in range(n):\n",
    "        profit91,ind_others=eq4_regression(kl[i],hl[i],name)\n",
    "\n",
    "        df_others=df_eq4.iloc[ind_others]\n",
    "        df_regress_eq4=pd.DataFrame({'Y':profit91,\"MKT\":df_others['MKT'],\"BOND\":df_others['BOND'],\n",
    "                                   \"GSCI\":df_others['GSCI'],\"SMB\":df_others['SMB'],\n",
    "                                   \"HML\":df_others['HML'],\"UMD\":df_others['UMD']})\n",
    "        model=smf.gls(\"Y ~ MKT+BOND+GSCI+SMB+HML+UMD\", df_regress_eq4).fit()\n",
    "#        print(model.summary())\n",
    "        alpha[i]=model.tvalues[0]  # intercept, i.e., alpha's t-statistic\n",
    "    return alpha"
   ]
  },
  {
   "cell_type": "code",
   "execution_count": 23,
   "metadata": {
    "collapsed": false
   },
   "outputs": [
    {
     "data": {
      "text/html": [
       "<div>\n",
       "<table border=\"1\" class=\"dataframe\">\n",
       "  <thead>\n",
       "    <tr style=\"text-align: right;\">\n",
       "      <th></th>\n",
       "      <th>h</th>\n",
       "      <th>k</th>\n",
       "      <th>Alpha_FTSE100</th>\n",
       "      <th>Alpha_SP500</th>\n",
       "      <th>Alpha_TOPIX</th>\n",
       "    </tr>\n",
       "  </thead>\n",
       "  <tbody>\n",
       "    <tr>\n",
       "      <th>0</th>\n",
       "      <td>1</td>\n",
       "      <td>3</td>\n",
       "      <td>-0.544507</td>\n",
       "      <td>1.145574</td>\n",
       "      <td>0.364106</td>\n",
       "    </tr>\n",
       "    <tr>\n",
       "      <th>1</th>\n",
       "      <td>1</td>\n",
       "      <td>6</td>\n",
       "      <td>0.549671</td>\n",
       "      <td>0.828264</td>\n",
       "      <td>-0.126187</td>\n",
       "    </tr>\n",
       "    <tr>\n",
       "      <th>2</th>\n",
       "      <td>1</td>\n",
       "      <td>9</td>\n",
       "      <td>0.683305</td>\n",
       "      <td>1.737543</td>\n",
       "      <td>-0.178634</td>\n",
       "    </tr>\n",
       "    <tr>\n",
       "      <th>3</th>\n",
       "      <td>1</td>\n",
       "      <td>12</td>\n",
       "      <td>1.725494</td>\n",
       "      <td>-0.413894</td>\n",
       "      <td>-0.155496</td>\n",
       "    </tr>\n",
       "    <tr>\n",
       "      <th>4</th>\n",
       "      <td>1</td>\n",
       "      <td>24</td>\n",
       "      <td>0.651595</td>\n",
       "      <td>0.103657</td>\n",
       "      <td>-1.278238</td>\n",
       "    </tr>\n",
       "    <tr>\n",
       "      <th>5</th>\n",
       "      <td>1</td>\n",
       "      <td>36</td>\n",
       "      <td>0.578914</td>\n",
       "      <td>0.818045</td>\n",
       "      <td>-1.394283</td>\n",
       "    </tr>\n",
       "    <tr>\n",
       "      <th>6</th>\n",
       "      <td>1</td>\n",
       "      <td>48</td>\n",
       "      <td>0.685926</td>\n",
       "      <td>1.155448</td>\n",
       "      <td>-1.659595</td>\n",
       "    </tr>\n",
       "  </tbody>\n",
       "</table>\n",
       "</div>"
      ],
      "text/plain": [
       "   h   k  Alpha_FTSE100  Alpha_SP500  Alpha_TOPIX\n",
       "0  1   3      -0.544507     1.145574     0.364106\n",
       "1  1   6       0.549671     0.828264    -0.126187\n",
       "2  1   9       0.683305     1.737543    -0.178634\n",
       "3  1  12       1.725494    -0.413894    -0.155496\n",
       "4  1  24       0.651595     0.103657    -1.278238\n",
       "5  1  36       0.578914     0.818045    -1.394283\n",
       "6  1  48       0.685926     1.155448    -1.659595"
      ]
     },
     "execution_count": 23,
     "metadata": {},
     "output_type": "execute_result"
    }
   ],
   "source": [
    "# Compute the alpha t-statistic with varity combinations of (k,h)\n",
    "kls=[3,6,9,12,24,36,48]  # ks\n",
    "hls=[1,1,1,1,1,1,1]      # ls: Assume l=1 based on the information in the paper\n",
    "names=['SP500','TOPIX','FTSE100']\n",
    "alpha_SP=eq4_regress(kls,hls,names[0])\n",
    "alpha_TOP=eq4_regress(kls,hls,names[1])\n",
    "alpha_FTSE=eq4_regress(kls,hls,names[2])\n",
    "alpha_res=pd.DataFrame({'k':kls,'h':hls,'Alpha_SP500':alpha_SP,\n",
    "                       'Alpha_TOPIX':alpha_TOP,'Alpha_FTSE100':alpha_FTSE})\n",
    "# Order the sequences of columns\n",
    "alpha_res=alpha_res[['h','k','Alpha_FTSE100','Alpha_SP500','Alpha_TOPIX']]\n",
    "alpha_res"
   ]
  },
  {
   "cell_type": "markdown",
   "metadata": {},
   "source": [
    "## Define a function to implement the equation 5\n",
    "\n",
    "* From above results, we know chose k=12 and h=1"
   ]
  },
  {
   "cell_type": "code",
   "execution_count": 24,
   "metadata": {
    "collapsed": false
   },
   "outputs": [
    {
     "data": {
      "text/html": [
       "<div>\n",
       "<table border=\"1\" class=\"dataframe\">\n",
       "  <thead>\n",
       "    <tr style=\"text-align: right;\">\n",
       "      <th></th>\n",
       "      <th>SP500</th>\n",
       "      <th>TOPIX</th>\n",
       "      <th>FTSE100</th>\n",
       "      <th>rf</th>\n",
       "    </tr>\n",
       "    <tr>\n",
       "      <th>datetime</th>\n",
       "      <th></th>\n",
       "      <th></th>\n",
       "      <th></th>\n",
       "      <th></th>\n",
       "    </tr>\n",
       "  </thead>\n",
       "  <tbody>\n",
       "    <tr>\n",
       "      <th>2012-12-24</th>\n",
       "      <td>0.131912</td>\n",
       "      <td>0.152908</td>\n",
       "      <td>0.122179</td>\n",
       "      <td>0</td>\n",
       "    </tr>\n",
       "    <tr>\n",
       "      <th>2012-12-26</th>\n",
       "      <td>0.131156</td>\n",
       "      <td>0.151682</td>\n",
       "      <td>0.121243</td>\n",
       "      <td>0</td>\n",
       "    </tr>\n",
       "    <tr>\n",
       "      <th>2012-12-27</th>\n",
       "      <td>0.130389</td>\n",
       "      <td>0.151783</td>\n",
       "      <td>0.120230</td>\n",
       "      <td>0</td>\n",
       "    </tr>\n",
       "    <tr>\n",
       "      <th>2012-12-28</th>\n",
       "      <td>0.129321</td>\n",
       "      <td>0.150960</td>\n",
       "      <td>0.119238</td>\n",
       "      <td>0</td>\n",
       "    </tr>\n",
       "    <tr>\n",
       "      <th>2012-12-31</th>\n",
       "      <td>0.134209</td>\n",
       "      <td>0.150040</td>\n",
       "      <td>0.118702</td>\n",
       "      <td>0</td>\n",
       "    </tr>\n",
       "  </tbody>\n",
       "</table>\n",
       "</div>"
      ],
      "text/plain": [
       "               SP500     TOPIX   FTSE100  rf\n",
       "datetime                                    \n",
       "2012-12-24  0.131912  0.152908  0.122179   0\n",
       "2012-12-26  0.131156  0.151682  0.121243   0\n",
       "2012-12-27  0.130389  0.151783  0.120230   0\n",
       "2012-12-28  0.129321  0.150960  0.119238   0\n",
       "2012-12-31  0.134209  0.150040  0.118702   0"
      ]
     },
     "execution_count": 24,
     "metadata": {},
     "output_type": "execute_result"
    }
   ],
   "source": [
    "# Fix k=12, and h=1\n",
    "# Get the overview of daily vol matrix\n",
    "df_vol.tail()"
   ]
  },
  {
   "cell_type": "code",
   "execution_count": 25,
   "metadata": {
    "collapsed": false
   },
   "outputs": [
    {
     "data": {
      "text/html": [
       "<div>\n",
       "<table border=\"1\" class=\"dataframe\">\n",
       "  <thead>\n",
       "    <tr style=\"text-align: right;\">\n",
       "      <th></th>\n",
       "      <th>datetime</th>\n",
       "      <th>SP500</th>\n",
       "      <th>TOPIX</th>\n",
       "      <th>FTSE100</th>\n",
       "      <th>rf</th>\n",
       "      <th>rbar</th>\n",
       "      <th>MKT</th>\n",
       "      <th>BOND</th>\n",
       "      <th>GSCI</th>\n",
       "      <th>SMB</th>\n",
       "      <th>HML</th>\n",
       "      <th>UMD</th>\n",
       "      <th>SP500VOL</th>\n",
       "      <th>TOPIXVOL</th>\n",
       "      <th>FTSE100VOL</th>\n",
       "      <th>rfVOL</th>\n",
       "    </tr>\n",
       "  </thead>\n",
       "  <tbody>\n",
       "    <tr>\n",
       "      <th>0</th>\n",
       "      <td>1998-01-02</td>\n",
       "      <td>0.005503</td>\n",
       "      <td>-0.000217</td>\n",
       "      <td>0.011077</td>\n",
       "      <td>0.000217</td>\n",
       "      <td>0.0</td>\n",
       "      <td>938.671</td>\n",
       "      <td>105.281</td>\n",
       "      <td>3019.39</td>\n",
       "      <td>-0.05</td>\n",
       "      <td>-0.46</td>\n",
       "      <td>-1.27</td>\n",
       "      <td>0.0</td>\n",
       "      <td>0.0</td>\n",
       "      <td>0.0</td>\n",
       "      <td>0</td>\n",
       "    </tr>\n",
       "    <tr>\n",
       "      <th>1</th>\n",
       "      <td>1998-01-05</td>\n",
       "      <td>0.002024</td>\n",
       "      <td>-0.007359</td>\n",
       "      <td>0.013075</td>\n",
       "      <td>0.000211</td>\n",
       "      <td>0.0</td>\n",
       "      <td>939.987</td>\n",
       "      <td>105.909</td>\n",
       "      <td>2991.11</td>\n",
       "      <td>0.08</td>\n",
       "      <td>-0.30</td>\n",
       "      <td>-0.13</td>\n",
       "      <td>0.0</td>\n",
       "      <td>0.0</td>\n",
       "      <td>0.0</td>\n",
       "      <td>0</td>\n",
       "    </tr>\n",
       "    <tr>\n",
       "      <th>2</th>\n",
       "      <td>1998-01-06</td>\n",
       "      <td>-0.016321</td>\n",
       "      <td>-0.005336</td>\n",
       "      <td>0.000151</td>\n",
       "      <td>0.000210</td>\n",
       "      <td>0.0</td>\n",
       "      <td>932.013</td>\n",
       "      <td>105.977</td>\n",
       "      <td>2979.06</td>\n",
       "      <td>0.24</td>\n",
       "      <td>0.23</td>\n",
       "      <td>0.12</td>\n",
       "      <td>0.0</td>\n",
       "      <td>0.0</td>\n",
       "      <td>0.0</td>\n",
       "      <td>0</td>\n",
       "    </tr>\n",
       "    <tr>\n",
       "      <th>3</th>\n",
       "      <td>1998-01-07</td>\n",
       "      <td>0.002878</td>\n",
       "      <td>0.002494</td>\n",
       "      <td>-0.007867</td>\n",
       "      <td>0.000212</td>\n",
       "      <td>0.0</td>\n",
       "      <td>930.175</td>\n",
       "      <td>105.723</td>\n",
       "      <td>2967.46</td>\n",
       "      <td>-0.39</td>\n",
       "      <td>-0.10</td>\n",
       "      <td>-0.42</td>\n",
       "      <td>0.0</td>\n",
       "      <td>0.0</td>\n",
       "      <td>0.0</td>\n",
       "      <td>0</td>\n",
       "    </tr>\n",
       "    <tr>\n",
       "      <th>4</th>\n",
       "      <td>1998-01-08</td>\n",
       "      <td>-0.013351</td>\n",
       "      <td>-0.000716</td>\n",
       "      <td>0.002279</td>\n",
       "      <td>0.000209</td>\n",
       "      <td>0.0</td>\n",
       "      <td>923.243</td>\n",
       "      <td>106.055</td>\n",
       "      <td>2945.34</td>\n",
       "      <td>0.34</td>\n",
       "      <td>-0.25</td>\n",
       "      <td>-0.09</td>\n",
       "      <td>0.0</td>\n",
       "      <td>0.0</td>\n",
       "      <td>0.0</td>\n",
       "      <td>0</td>\n",
       "    </tr>\n",
       "  </tbody>\n",
       "</table>\n",
       "</div>"
      ],
      "text/plain": [
       "    datetime     SP500     TOPIX   FTSE100        rf  rbar      MKT     BOND  \\\n",
       "0 1998-01-02  0.005503 -0.000217  0.011077  0.000217   0.0  938.671  105.281   \n",
       "1 1998-01-05  0.002024 -0.007359  0.013075  0.000211   0.0  939.987  105.909   \n",
       "2 1998-01-06 -0.016321 -0.005336  0.000151  0.000210   0.0  932.013  105.977   \n",
       "3 1998-01-07  0.002878  0.002494 -0.007867  0.000212   0.0  930.175  105.723   \n",
       "4 1998-01-08 -0.013351 -0.000716  0.002279  0.000209   0.0  923.243  106.055   \n",
       "\n",
       "      GSCI   SMB   HML   UMD  SP500VOL  TOPIXVOL  FTSE100VOL  rfVOL  \n",
       "0  3019.39 -0.05 -0.46 -1.27       0.0       0.0         0.0      0  \n",
       "1  2991.11  0.08 -0.30 -0.13       0.0       0.0         0.0      0  \n",
       "2  2979.06  0.24  0.23  0.12       0.0       0.0         0.0      0  \n",
       "3  2967.46 -0.39 -0.10 -0.42       0.0       0.0         0.0      0  \n",
       "4  2945.34  0.34 -0.25 -0.09       0.0       0.0         0.0      0  "
      ]
     },
     "execution_count": 25,
     "metadata": {},
     "output_type": "execute_result"
    }
   ],
   "source": [
    "# For k=12 and h=1\n",
    "# km is k and hm is h in the combination of (h,k)\n",
    "profit_SP,ind_SP=eq4_regression(km=12,hm=1,name='SP500')\n",
    "vol_eq5=df_vol.iloc[ind_SP]\n",
    "# Reset index for merging\n",
    "df_vol_e5=df_vol.reset_index()\n",
    "df_vol_e5.columns=['datetime','SP500VOL','TOPIXVOL','FTSE100VOL','rfVOL']\n",
    "df_eq5=df_eq4.merge(df_vol_e5,on='datetime',how='inner').dropna()\n",
    "df_eq5.head()"
   ]
  },
  {
   "cell_type": "code",
   "execution_count": 26,
   "metadata": {
    "collapsed": true
   },
   "outputs": [],
   "source": [
    "# Define a function to implement equation 5 in the paper\n",
    "def eq5_implement(km,hm,name,name2,df_eq5):\n",
    "    '''\n",
    "    :param km: look-back period\n",
    "    :param hm: holding period\n",
    "    :param name: equity index future name\n",
    "    :param name2: equity index future vol name\n",
    "    return: alpha factor\n",
    "    '''\n",
    "    # Fix hm=1\n",
    "    T=len(df_eq5.index) # Total days\n",
    "    x=int(np.floor(T/22-km))  # Maximum dataset\n",
    "    \n",
    "    k=km*22 # convert the month to days\n",
    "    \n",
    "    profit=[]\n",
    "    ind_others=[]\n",
    "    for h in range(1,x+1):\n",
    "        # h with unit month\n",
    "        i=h*22 # convert the month to days\n",
    "#        print(np.sum(df_eq4['SP500'][(T-k-i):(T-i)]))\n",
    "        if(np.sum(df_eq5[name][(T-k-i):(T-i)])>0 and df_eq5[name2][T-(i-1)]<>0):\n",
    "            profit.append((df_eq5[name][T-(i-1)]-df_eq5[name][T-i])*0.4/df_eq5[name2][T-(i-1)])\n",
    "        if(np.sum(df_eq5[name][(T-k-i):(T-i)])<0 and df_eq5[name2][T-(i-1)]<>0):\n",
    "            profit.append(-(df_eq5[name][T-(i-1)]-df_eq5[name][T-i])*0.4/df_eq5[name2][T-(i-1)])\n",
    "    \n",
    "        ind_others.append(T-(i-1))\n",
    "    \n",
    "    return profit, ind_others\n",
    "  "
   ]
  },
  {
   "cell_type": "markdown",
   "metadata": {},
   "source": [
    "### Computing Sharpe Ratio"
   ]
  },
  {
   "cell_type": "code",
   "execution_count": 27,
   "metadata": {
    "collapsed": false
   },
   "outputs": [
    {
     "data": {
      "text/plain": [
       "0.14343315143584379"
      ]
     },
     "execution_count": 27,
     "metadata": {},
     "output_type": "execute_result"
    }
   ],
   "source": [
    "# Compute Sharpe ratio for SP500\n",
    "# other two tick names are: TOPIX, and FTSE100\n",
    "name='SP500'\n",
    "name2='SP500VOL'\n",
    "profit_SP,ind_rf=eq5_implement(12,1,name,name2,df_eq5)\n",
    "# Get the risk-free, benchmark rate\n",
    "rf_sr=df_eq5.iloc[ind_rf]['rf']\n",
    "# Get the corresponding vol\n",
    "vol_sr=df_eq5.iloc[ind_rf][name2]\n",
    "vol_df=vol_sr.reset_index()\n",
    "rf_df=rf_sr.reset_index()\n",
    "\n",
    "excess_profit=[0]*len(profit_SP)\n",
    "for i in range(len(profit_SP)):\n",
    "    if(vol_df.iloc[i][name2]<>0):\n",
    "        excess_profit[i]=(profit_SP[i]-rf_df['rf'][i])\n",
    "S=np.average(excess_profit)/np.sqrt(np.var(excess_profit))\n",
    "# Sharp ratio\n",
    "# Annulized\n",
    "sharp_ratio=np.sqrt(261)*S \n",
    "sharp_ratio"
   ]
  },
  {
   "cell_type": "markdown",
   "metadata": {},
   "source": [
    "### Do the same process as replicating before\n",
    "\n",
    "* Key point: The only change in our improvement is changing of annuliazed vol\n",
    "\n",
    "### GARCH \"improvement\"\n",
    "\n",
    "#### Compute annulized vol by using GARCH(1,1) model"
   ]
  },
  {
   "cell_type": "code",
   "execution_count": 28,
   "metadata": {
    "collapsed": false,
    "scrolled": true
   },
   "outputs": [
    {
     "name": "stdout",
     "output_type": "stream",
     "text": [
      "Inequality constraints incompatible    (Exit mode 4)\n",
      "            Current function value: -22709.0386285\n",
      "            Iterations: 1\n",
      "            Function evaluations: 6\n",
      "            Gradient evaluations: 1\n"
     ]
    },
    {
     "name": "stderr",
     "output_type": "stream",
     "text": [
      "/Users/hongchao/anaconda/envs/py27/lib/python2.7/site-packages/arch/univariate/base.py:517: ConvergenceWarning: \n",
      "The optimizer returned code 4. The message is:\n",
      "Inequality constraints incompatible\n",
      "See scipy.optimize.fmin_slsqp for code meaning.\n",
      "\n",
      "  ConvergenceWarning)\n"
     ]
    },
    {
     "name": "stdout",
     "output_type": "stream",
     "text": [
      "Inequality constraints incompatible    (Exit mode 4)\n",
      "            Current function value: -21722.7774032\n",
      "            Iterations: 1\n",
      "            Function evaluations: 6\n",
      "            Gradient evaluations: 1\n"
     ]
    },
    {
     "name": "stderr",
     "output_type": "stream",
     "text": [
      "/Users/hongchao/anaconda/envs/py27/lib/python2.7/site-packages/arch/univariate/base.py:517: ConvergenceWarning: \n",
      "The optimizer returned code 4. The message is:\n",
      "Inequality constraints incompatible\n",
      "See scipy.optimize.fmin_slsqp for code meaning.\n",
      "\n",
      "  ConvergenceWarning)\n"
     ]
    }
   ],
   "source": [
    "# Compute the vol matrix of all derivatives (GARCH)\n",
    "warnings.simplefilter(\"ignore\") # Do not show warnings\n",
    "for k in range(1,(len(df_vol.columns)-1)):\n",
    "    rbar_list = [0]*sLength\n",
    "    for j in range(1,sLength - 299): \n",
    "        for i in range(0,300):\n",
    "            rbar_list[sLength-j] = rbar_list[sLength-j] + df_excess_test[colnames[k]][sLength-j-i]*(1-delta)*np.power(delta,i)\n",
    "    df_excess_test['rbar']=rbar_list\n",
    "    \n",
    "    vol_list = [0]*sLength\n",
    "    am = arch_model(rbar_list) \n",
    "    res = am.fit(update_freq=5)\n",
    "    vol_list= np.sqrt(261*res.conditional_volatility)\n",
    "    \n",
    "    df_vol[colnames[k]]=vol_list"
   ]
  },
  {
   "cell_type": "code",
   "execution_count": 29,
   "metadata": {
    "collapsed": false
   },
   "outputs": [
    {
     "data": {
      "text/html": [
       "<div>\n",
       "<table border=\"1\" class=\"dataframe\">\n",
       "  <thead>\n",
       "    <tr style=\"text-align: right;\">\n",
       "      <th></th>\n",
       "      <th>SP500</th>\n",
       "      <th>TOPIX</th>\n",
       "      <th>FTSE100</th>\n",
       "      <th>rf</th>\n",
       "    </tr>\n",
       "    <tr>\n",
       "      <th>datetime</th>\n",
       "      <th></th>\n",
       "      <th></th>\n",
       "      <th></th>\n",
       "      <th></th>\n",
       "    </tr>\n",
       "  </thead>\n",
       "  <tbody>\n",
       "    <tr>\n",
       "      <th>1998-01-02</th>\n",
       "      <td>0.189889</td>\n",
       "      <td>0.244424</td>\n",
       "      <td>0.0</td>\n",
       "      <td>0</td>\n",
       "    </tr>\n",
       "    <tr>\n",
       "      <th>1998-01-05</th>\n",
       "      <td>0.218690</td>\n",
       "      <td>0.264609</td>\n",
       "      <td>0.0</td>\n",
       "      <td>0</td>\n",
       "    </tr>\n",
       "    <tr>\n",
       "      <th>1998-01-06</th>\n",
       "      <td>0.235142</td>\n",
       "      <td>0.277647</td>\n",
       "      <td>0.0</td>\n",
       "      <td>0</td>\n",
       "    </tr>\n",
       "    <tr>\n",
       "      <th>1998-01-07</th>\n",
       "      <td>0.245925</td>\n",
       "      <td>0.286672</td>\n",
       "      <td>0.0</td>\n",
       "      <td>0</td>\n",
       "    </tr>\n",
       "    <tr>\n",
       "      <th>1998-01-08</th>\n",
       "      <td>0.253447</td>\n",
       "      <td>0.293162</td>\n",
       "      <td>0.0</td>\n",
       "      <td>0</td>\n",
       "    </tr>\n",
       "  </tbody>\n",
       "</table>\n",
       "</div>"
      ],
      "text/plain": [
       "               SP500     TOPIX  FTSE100  rf\n",
       "datetime                                   \n",
       "1998-01-02  0.189889  0.244424      0.0   0\n",
       "1998-01-05  0.218690  0.264609      0.0   0\n",
       "1998-01-06  0.235142  0.277647      0.0   0\n",
       "1998-01-07  0.245925  0.286672      0.0   0\n",
       "1998-01-08  0.253447  0.293162      0.0   0"
      ]
     },
     "execution_count": 29,
     "metadata": {},
     "output_type": "execute_result"
    }
   ],
   "source": [
    "# Assigned to GARCH Vol\n",
    "GARCH_Vol_D=df_vol\n",
    "GARCH_Vol_D.head()"
   ]
  },
  {
   "cell_type": "code",
   "execution_count": 30,
   "metadata": {
    "collapsed": false
   },
   "outputs": [],
   "source": [
    "# Get the Monthly GARCH vol\n",
    "GARCH_vol_M=GARCH_Vol_D\n",
    "#GARCH_vol_M.set_index('datetime',inplace=True)\n",
    "# Already been setted\n",
    "GARCH_vol_M=GARCH_vol_M.resample('M').mean()"
   ]
  },
  {
   "cell_type": "code",
   "execution_count": 31,
   "metadata": {
    "collapsed": true
   },
   "outputs": [],
   "source": [
    "# Drop rf\n",
    "GARCHeq2_volM=GARCH_vol_M.drop(['rf'],axis=1)"
   ]
  },
  {
   "cell_type": "code",
   "execution_count": 32,
   "metadata": {
    "collapsed": false
   },
   "outputs": [
    {
     "data": {
      "text/html": [
       "<div>\n",
       "<table border=\"1\" class=\"dataframe\">\n",
       "  <thead>\n",
       "    <tr style=\"text-align: right;\">\n",
       "      <th></th>\n",
       "      <th>SP500</th>\n",
       "      <th>TOPIX</th>\n",
       "      <th>FTSE100</th>\n",
       "      <th>AvgVol</th>\n",
       "    </tr>\n",
       "    <tr>\n",
       "      <th>datetime</th>\n",
       "      <th></th>\n",
       "      <th></th>\n",
       "      <th></th>\n",
       "      <th></th>\n",
       "    </tr>\n",
       "  </thead>\n",
       "  <tbody>\n",
       "    <tr>\n",
       "      <th>2012-08-31</th>\n",
       "      <td>0.421462</td>\n",
       "      <td>0.353665</td>\n",
       "      <td>0.163390</td>\n",
       "      <td>0.312839</td>\n",
       "    </tr>\n",
       "    <tr>\n",
       "      <th>2012-09-30</th>\n",
       "      <td>0.461380</td>\n",
       "      <td>0.343362</td>\n",
       "      <td>0.152031</td>\n",
       "      <td>0.318924</td>\n",
       "    </tr>\n",
       "    <tr>\n",
       "      <th>2012-10-31</th>\n",
       "      <td>0.425414</td>\n",
       "      <td>0.340823</td>\n",
       "      <td>0.142191</td>\n",
       "      <td>0.302809</td>\n",
       "    </tr>\n",
       "    <tr>\n",
       "      <th>2012-11-30</th>\n",
       "      <td>0.321726</td>\n",
       "      <td>0.363799</td>\n",
       "      <td>0.138381</td>\n",
       "      <td>0.274635</td>\n",
       "    </tr>\n",
       "    <tr>\n",
       "      <th>2012-12-31</th>\n",
       "      <td>0.318365</td>\n",
       "      <td>0.528210</td>\n",
       "      <td>0.127567</td>\n",
       "      <td>0.324714</td>\n",
       "    </tr>\n",
       "  </tbody>\n",
       "</table>\n",
       "</div>"
      ],
      "text/plain": [
       "               SP500     TOPIX   FTSE100    AvgVol\n",
       "datetime                                          \n",
       "2012-08-31  0.421462  0.353665  0.163390  0.312839\n",
       "2012-09-30  0.461380  0.343362  0.152031  0.318924\n",
       "2012-10-31  0.425414  0.340823  0.142191  0.302809\n",
       "2012-11-30  0.321726  0.363799  0.138381  0.274635\n",
       "2012-12-31  0.318365  0.528210  0.127567  0.324714"
      ]
     },
     "execution_count": 32,
     "metadata": {},
     "output_type": "execute_result"
    }
   ],
   "source": [
    "# Compute the aggregated vol\n",
    "GARCHeq2_volM['AvgVol']=(GARCHeq2_volM.sum(axis=1))/3\n",
    "GARCHeq2_volM.tail()"
   ]
  },
  {
   "cell_type": "code",
   "execution_count": 33,
   "metadata": {
    "collapsed": false
   },
   "outputs": [
    {
     "data": {
      "image/png": "[encoded data removed]",
      "text/plain": [
       "<matplotlib.figure.Figure at 0x115ff9710>"
      ]
     },
     "metadata": {},
     "output_type": "display_data"
    }
   ],
   "source": [
    "# Defind function to implement equation 2 in the paper\n",
    "GARCHRV_ratio = [0]*(len(GARCHeq2_volM['AvgVol'])-15)\n",
    "GARCHSP_RV_ratio = [0]*(len(GARCHeq2_volM['AvgVol'])-15)\n",
    "GARCHTOPIX_RV_ratio = [0]*(len(GARCHeq2_volM['AvgVol'])-15)\n",
    "GARCHFTSE_RV_ratio = [0]*(len(GARCHeq2_volM['AvgVol'])-15)\n",
    "\n",
    "for i in range(0,len(GARCHeq2_volM['AvgVol'])-15):\n",
    "    GARCHRV_ratio[i]=eq2_rM['SumReturn'][i+15]/GARCHeq2_volM['AvgVol'][i+14]\n",
    "    GARCHSP_RV_ratio[i]=eq2_rM['SP500'][i+15]/GARCHeq2_volM['SP500'][i+14]\n",
    "    GARCHTOPIX_RV_ratio[i]=eq2_rM['TOPIX'][i+15]/GARCHeq2_volM['TOPIX'][i+14]\n",
    "    GARCHFTSE_RV_ratio[i]=eq2_rM['FTSE100'][i+15]/GARCHeq2_volM['FTSE100'][i+14]\n",
    "\n",
    "# Aggregated\n",
    "#test Equity Index monthly data\n",
    "tstat = [0]*60\n",
    "for h in range (1,61): \n",
    "    X = GARCHRV_ratio[0:(len(GARCHRV_ratio)-h)] #lagged excess return as predictor\n",
    "    Y = GARCHRV_ratio[h:len(GARCHRV_ratio)]\n",
    "    # Create linear regression \n",
    "    data = pd.DataFrame({'x': X, 'y': Y})\n",
    "    model = smf.gls(\"y ~ x\", data).fit()\n",
    "    tstat[h-1] = model.tvalues[1]\n",
    "    #print(model.summary()) \n",
    "\n",
    "plt.bar(np.arange(len(tstat)),tstat)\n",
    "plt.xlabel('Lagged Month')\n",
    "plt.ylabel('T stats')\n",
    "plt.title(\"Aggregated Monthly Equity data by using GARCH(1,1)\")\n",
    "plt.savefig(\"../Images/GARCH_Aggregated_Monthly_Equity\")\n",
    "plt.show()\n"
   ]
  },
  {
   "cell_type": "code",
   "execution_count": 34,
   "metadata": {
    "collapsed": false
   },
   "outputs": [
    {
     "data": {
      "image/png": "[encoded data removed]",
      "text/plain": [
       "<matplotlib.figure.Figure at 0x110a02d50>"
      ]
     },
     "metadata": {},
     "output_type": "display_data"
    }
   ],
   "source": [
    "# SP500\n",
    "#test Equity Index monthly data\n",
    "tstat = [0]*60\n",
    "for h in range (1,61): \n",
    "    X = GARCHSP_RV_ratio[0:(len(GARCHSP_RV_ratio)-h)] #lagged excess return as predictor\n",
    "    Y = GARCHSP_RV_ratio[h:len(GARCHSP_RV_ratio)]\n",
    "    # Create linear regression \n",
    "    data = pd.DataFrame({'x': X, 'y': Y})\n",
    "    model = smf.gls(\"y ~ x\", data).fit()\n",
    "    tstat[h-1] = model.tvalues[1]\n",
    "    #print(model.summary()) \n",
    "\n",
    "plt.bar(np.arange(len(tstat)),tstat)\n",
    "plt.xlabel('Lagged Month')\n",
    "plt.ylabel('T stats')\n",
    "plt.title(\"SP500 Monthly Equity data by using GARCH(1,1)\")\n",
    "plt.savefig(\"../Images/GARCH_SP500_Monthly_Equity\")\n",
    "plt.show()"
   ]
  },
  {
   "cell_type": "code",
   "execution_count": 35,
   "metadata": {
    "collapsed": false
   },
   "outputs": [
    {
     "data": {
      "image/png": "[encoded data removed]",
      "text/plain": [
       "<matplotlib.figure.Figure at 0x116374690>"
      ]
     },
     "metadata": {},
     "output_type": "display_data"
    }
   ],
   "source": [
    "# TOPIX\n",
    "#test Equity Index monthly data\n",
    "tstat = [0]*60\n",
    "for h in range (1,61): \n",
    "    X = GARCHTOPIX_RV_ratio[0:(len(GARCHTOPIX_RV_ratio)-h)] #lagged excess return as predictor\n",
    "    Y = GARCHTOPIX_RV_ratio[h:len(GARCHTOPIX_RV_ratio)]\n",
    "    # Create linear regression \n",
    "    data = pd.DataFrame({'x': X, 'y': Y})\n",
    "    model = smf.gls(\"y ~ x\", data).fit()\n",
    "    tstat[h-1] = model.tvalues[1]\n",
    "    #print(model.summary()) \n",
    "\n",
    "plt.bar(np.arange(len(tstat)),tstat)\n",
    "plt.xlabel('Lagged Month')\n",
    "plt.ylabel('T stats')\n",
    "plt.title(\"TOPIX Monthly Equity data by using GARCH(1,1)\")\n",
    "plt.savefig(\"../Images/GARCH_TOPIX_Monthly_Equity\")\n",
    "plt.show()"
   ]
  },
  {
   "cell_type": "code",
   "execution_count": 36,
   "metadata": {
    "collapsed": false
   },
   "outputs": [
    {
     "data": {
      "image/png": "[encoded data removed]",
      "text/plain": [
       "<matplotlib.figure.Figure at 0x115fe76d0>"
      ]
     },
     "metadata": {},
     "output_type": "display_data"
    }
   ],
   "source": [
    "# FTSE100\n",
    "#test Equity Index monthly data\n",
    "tstat = [0]*60\n",
    "for h in range (1,61): \n",
    "    X = GARCHFTSE_RV_ratio[0:(len(GARCHFTSE_RV_ratio)-h)] #lagged excess return as predictor\n",
    "    Y = GARCHFTSE_RV_ratio[h:len(GARCHFTSE_RV_ratio)]\n",
    "    # Create linear regression \n",
    "    data = pd.DataFrame({'x': X, 'y': Y})\n",
    "    model = smf.gls(\"y ~ x\", data).fit()\n",
    "    tstat[h-1] = model.tvalues[1]\n",
    "    #print(model.summary()) \n",
    "\n",
    "plt.bar(np.arange(len(tstat)),tstat)\n",
    "plt.xlabel('Lagged Month')\n",
    "plt.ylabel('T stats')\n",
    "plt.title(\"FTSE Monthly Equity data by using GARCH(1,1)\")\n",
    "plt.savefig(\"../Images/GARCH_FTSE_Monthly_Equity\")\n",
    "plt.show()"
   ]
  },
  {
   "cell_type": "code",
   "execution_count": 37,
   "metadata": {
    "collapsed": false
   },
   "outputs": [
    {
     "data": {
      "text/html": [
       "<div>\n",
       "<table border=\"1\" class=\"dataframe\">\n",
       "  <thead>\n",
       "    <tr style=\"text-align: right;\">\n",
       "      <th></th>\n",
       "      <th>datetime</th>\n",
       "      <th>SP500</th>\n",
       "      <th>TOPIX</th>\n",
       "      <th>FTSE100</th>\n",
       "      <th>rf</th>\n",
       "      <th>rbar</th>\n",
       "      <th>MKT</th>\n",
       "      <th>BOND</th>\n",
       "      <th>GSCI</th>\n",
       "      <th>SMB</th>\n",
       "      <th>HML</th>\n",
       "      <th>UMD</th>\n",
       "      <th>SP500VOL</th>\n",
       "      <th>TOPIXVOL</th>\n",
       "      <th>FTSE100VOL</th>\n",
       "      <th>rfVOL</th>\n",
       "    </tr>\n",
       "  </thead>\n",
       "  <tbody>\n",
       "    <tr>\n",
       "      <th>0</th>\n",
       "      <td>1998-01-02</td>\n",
       "      <td>0.005503</td>\n",
       "      <td>-0.000217</td>\n",
       "      <td>0.011077</td>\n",
       "      <td>0.000217</td>\n",
       "      <td>0.0</td>\n",
       "      <td>938.671</td>\n",
       "      <td>105.281</td>\n",
       "      <td>3019.39</td>\n",
       "      <td>-0.05</td>\n",
       "      <td>-0.46</td>\n",
       "      <td>-1.27</td>\n",
       "      <td>0.189889</td>\n",
       "      <td>0.244424</td>\n",
       "      <td>0.0</td>\n",
       "      <td>0</td>\n",
       "    </tr>\n",
       "    <tr>\n",
       "      <th>1</th>\n",
       "      <td>1998-01-05</td>\n",
       "      <td>0.002024</td>\n",
       "      <td>-0.007359</td>\n",
       "      <td>0.013075</td>\n",
       "      <td>0.000211</td>\n",
       "      <td>0.0</td>\n",
       "      <td>939.987</td>\n",
       "      <td>105.909</td>\n",
       "      <td>2991.11</td>\n",
       "      <td>0.08</td>\n",
       "      <td>-0.30</td>\n",
       "      <td>-0.13</td>\n",
       "      <td>0.218690</td>\n",
       "      <td>0.264609</td>\n",
       "      <td>0.0</td>\n",
       "      <td>0</td>\n",
       "    </tr>\n",
       "    <tr>\n",
       "      <th>2</th>\n",
       "      <td>1998-01-06</td>\n",
       "      <td>-0.016321</td>\n",
       "      <td>-0.005336</td>\n",
       "      <td>0.000151</td>\n",
       "      <td>0.000210</td>\n",
       "      <td>0.0</td>\n",
       "      <td>932.013</td>\n",
       "      <td>105.977</td>\n",
       "      <td>2979.06</td>\n",
       "      <td>0.24</td>\n",
       "      <td>0.23</td>\n",
       "      <td>0.12</td>\n",
       "      <td>0.235142</td>\n",
       "      <td>0.277647</td>\n",
       "      <td>0.0</td>\n",
       "      <td>0</td>\n",
       "    </tr>\n",
       "    <tr>\n",
       "      <th>3</th>\n",
       "      <td>1998-01-07</td>\n",
       "      <td>0.002878</td>\n",
       "      <td>0.002494</td>\n",
       "      <td>-0.007867</td>\n",
       "      <td>0.000212</td>\n",
       "      <td>0.0</td>\n",
       "      <td>930.175</td>\n",
       "      <td>105.723</td>\n",
       "      <td>2967.46</td>\n",
       "      <td>-0.39</td>\n",
       "      <td>-0.10</td>\n",
       "      <td>-0.42</td>\n",
       "      <td>0.245925</td>\n",
       "      <td>0.286672</td>\n",
       "      <td>0.0</td>\n",
       "      <td>0</td>\n",
       "    </tr>\n",
       "    <tr>\n",
       "      <th>4</th>\n",
       "      <td>1998-01-08</td>\n",
       "      <td>-0.013351</td>\n",
       "      <td>-0.000716</td>\n",
       "      <td>0.002279</td>\n",
       "      <td>0.000209</td>\n",
       "      <td>0.0</td>\n",
       "      <td>923.243</td>\n",
       "      <td>106.055</td>\n",
       "      <td>2945.34</td>\n",
       "      <td>0.34</td>\n",
       "      <td>-0.25</td>\n",
       "      <td>-0.09</td>\n",
       "      <td>0.253447</td>\n",
       "      <td>0.293162</td>\n",
       "      <td>0.0</td>\n",
       "      <td>0</td>\n",
       "    </tr>\n",
       "  </tbody>\n",
       "</table>\n",
       "</div>"
      ],
      "text/plain": [
       "    datetime     SP500     TOPIX   FTSE100        rf  rbar      MKT     BOND  \\\n",
       "0 1998-01-02  0.005503 -0.000217  0.011077  0.000217   0.0  938.671  105.281   \n",
       "1 1998-01-05  0.002024 -0.007359  0.013075  0.000211   0.0  939.987  105.909   \n",
       "2 1998-01-06 -0.016321 -0.005336  0.000151  0.000210   0.0  932.013  105.977   \n",
       "3 1998-01-07  0.002878  0.002494 -0.007867  0.000212   0.0  930.175  105.723   \n",
       "4 1998-01-08 -0.013351 -0.000716  0.002279  0.000209   0.0  923.243  106.055   \n",
       "\n",
       "      GSCI   SMB   HML   UMD  SP500VOL  TOPIXVOL  FTSE100VOL  rfVOL  \n",
       "0  3019.39 -0.05 -0.46 -1.27  0.189889  0.244424         0.0      0  \n",
       "1  2991.11  0.08 -0.30 -0.13  0.218690  0.264609         0.0      0  \n",
       "2  2979.06  0.24  0.23  0.12  0.235142  0.277647         0.0      0  \n",
       "3  2967.46 -0.39 -0.10 -0.42  0.245925  0.286672         0.0      0  \n",
       "4  2945.34  0.34 -0.25 -0.09  0.253447  0.293162         0.0      0  "
      ]
     },
     "execution_count": 37,
     "metadata": {},
     "output_type": "execute_result"
    }
   ],
   "source": [
    "# Compute equation 5 under GARCH condition\n",
    "# For k=12 and h=1\n",
    "# Similar as paper's exponential weighted method\n",
    "profit_SP,ind_SP=eq4_regression(km=12,hm=1,name='SP500')\n",
    "vol_eq5=GARCH_Vol_D.iloc[ind_SP]\n",
    "df_vol_e5=GARCH_Vol_D.reset_index()\n",
    "df_vol_e5.columns=['datetime','SP500VOL','TOPIXVOL','FTSE100VOL','rfVOL']\n",
    "df_eq5=df_eq4.merge(df_vol_e5,on='datetime',how='inner').dropna()\n",
    "df_eq5.head()"
   ]
  },
  {
   "cell_type": "markdown",
   "metadata": {},
   "source": [
    "### Compute Sharpe Ration under GARCH(1,1) model"
   ]
  },
  {
   "cell_type": "code",
   "execution_count": 38,
   "metadata": {
    "collapsed": false
   },
   "outputs": [
    {
     "data": {
      "text/plain": [
       "-0.29394542382230027"
      ]
     },
     "execution_count": 38,
     "metadata": {},
     "output_type": "execute_result"
    }
   ],
   "source": [
    "# Compute Sharpe ratio for SP500\n",
    "# other two tick names are: TOPIX, and FTSE100\n",
    "name='SP500'\n",
    "name2='SP500VOL'\n",
    "profit_SP,ind_rf=eq5_implement(12,1,name,name2,df_eq5)\n",
    "# Get risk-free, benchmark rate\n",
    "rf_sr=df_eq5.iloc[ind_rf]['rf']\n",
    "# Get corresponding vol\n",
    "vol_sr=df_eq5.iloc[ind_rf][name2]\n",
    "vol_df=vol_sr.reset_index()\n",
    "rf_df=rf_sr.reset_index()\n",
    "\n",
    "excess_profit=[0]*len(profit_SP)\n",
    "for i in range(len(profit_SP)):\n",
    "    if(vol_df.iloc[i][name2]<>0):\n",
    "        excess_profit[i]=(profit_SP[i]-rf_df['rf'][i])\n",
    "S=np.average(excess_profit)/np.sqrt(np.var(excess_profit))\n",
    "# Sharp ratio\n",
    "# Annulized\n",
    "sharp_ratio=np.sqrt(261)*S \n",
    "sharp_ratio"
   ]
  },
  {
   "cell_type": "markdown",
   "metadata": {},
   "source": [
    "## Compute annulized vol by using square root model\n",
    "\n",
    "[Reference article](https://www.scribd.com/document/185570005/A-trending-walk-rather-than-a-random-walk-Time-series-momentum-in-Australia)\n",
    "\n",
    "$$\n",
    "\\sigma_t=\\sqrt{\\frac{261}{22}\\sum_{i=1}^{22}r_t^2}\n",
    "$$"
   ]
  },
  {
   "cell_type": "code",
   "execution_count": 39,
   "metadata": {
    "collapsed": true
   },
   "outputs": [],
   "source": [
    "# Compute the vol matrix of all derivatives under equally weighted model\n",
    "df_vol2=df_vol\n",
    "for k in range(1,(len(df_vol.columns)-1)):\n",
    "    rbar_list = [0]*sLength\n",
    "    for j in range(1,sLength - 299): \n",
    "        for i in range(0,300):\n",
    "            rbar_list[sLength-j] = rbar_list[sLength-j] + df_excess_test[colnames[k]][sLength-j-i]*(1-delta)*np.power(delta,i)\n",
    "    df_excess_test['rbar']=rbar_list\n",
    "    \n",
    "    vol_list = [0]*sLength\n",
    "    for j in range(1,sLength - 21):\n",
    "        for i in range(1,22):\n",
    "            vol_list[sLength-j] = np.power(df_excess_test[colnames[k]][sLength-j-i],2)\n",
    "        vol_list[sLength-j] = np.sqrt(261/22*vol_list[sLength-j])\n",
    "    \n",
    "    df_vol2[colnames[k]]=vol_list\n"
   ]
  },
  {
   "cell_type": "code",
   "execution_count": 40,
   "metadata": {
    "collapsed": false
   },
   "outputs": [
    {
     "data": {
      "text/html": [
       "<div>\n",
       "<table border=\"1\" class=\"dataframe\">\n",
       "  <thead>\n",
       "    <tr style=\"text-align: right;\">\n",
       "      <th></th>\n",
       "      <th>SP500</th>\n",
       "      <th>TOPIX</th>\n",
       "      <th>FTSE100</th>\n",
       "      <th>rf</th>\n",
       "    </tr>\n",
       "    <tr>\n",
       "      <th>datetime</th>\n",
       "      <th></th>\n",
       "      <th></th>\n",
       "      <th></th>\n",
       "      <th></th>\n",
       "    </tr>\n",
       "  </thead>\n",
       "  <tbody>\n",
       "    <tr>\n",
       "      <th>1998-01-02</th>\n",
       "      <td>0.0</td>\n",
       "      <td>0.0</td>\n",
       "      <td>0.0</td>\n",
       "      <td>0</td>\n",
       "    </tr>\n",
       "    <tr>\n",
       "      <th>1998-01-05</th>\n",
       "      <td>0.0</td>\n",
       "      <td>0.0</td>\n",
       "      <td>0.0</td>\n",
       "      <td>0</td>\n",
       "    </tr>\n",
       "    <tr>\n",
       "      <th>1998-01-06</th>\n",
       "      <td>0.0</td>\n",
       "      <td>0.0</td>\n",
       "      <td>0.0</td>\n",
       "      <td>0</td>\n",
       "    </tr>\n",
       "    <tr>\n",
       "      <th>1998-01-07</th>\n",
       "      <td>0.0</td>\n",
       "      <td>0.0</td>\n",
       "      <td>0.0</td>\n",
       "      <td>0</td>\n",
       "    </tr>\n",
       "    <tr>\n",
       "      <th>1998-01-08</th>\n",
       "      <td>0.0</td>\n",
       "      <td>0.0</td>\n",
       "      <td>0.0</td>\n",
       "      <td>0</td>\n",
       "    </tr>\n",
       "  </tbody>\n",
       "</table>\n",
       "</div>"
      ],
      "text/plain": [
       "            SP500  TOPIX  FTSE100  rf\n",
       "datetime                             \n",
       "1998-01-02    0.0    0.0      0.0   0\n",
       "1998-01-05    0.0    0.0      0.0   0\n",
       "1998-01-06    0.0    0.0      0.0   0\n",
       "1998-01-07    0.0    0.0      0.0   0\n",
       "1998-01-08    0.0    0.0      0.0   0"
      ]
     },
     "execution_count": 40,
     "metadata": {},
     "output_type": "execute_result"
    }
   ],
   "source": [
    "# Assigned vol to equally weighted vol\n",
    "SQ_Vol_D=df_vol2\n",
    "SQ_Vol_D.head()"
   ]
  },
  {
   "cell_type": "code",
   "execution_count": 41,
   "metadata": {
    "collapsed": false
   },
   "outputs": [
    {
     "data": {
      "text/html": [
       "<div>\n",
       "<table border=\"1\" class=\"dataframe\">\n",
       "  <thead>\n",
       "    <tr style=\"text-align: right;\">\n",
       "      <th></th>\n",
       "      <th>SP500</th>\n",
       "      <th>TOPIX</th>\n",
       "      <th>FTSE100</th>\n",
       "      <th>rf</th>\n",
       "    </tr>\n",
       "    <tr>\n",
       "      <th>datetime</th>\n",
       "      <th></th>\n",
       "      <th></th>\n",
       "      <th></th>\n",
       "      <th></th>\n",
       "    </tr>\n",
       "  </thead>\n",
       "  <tbody>\n",
       "    <tr>\n",
       "      <th>1998-01-31</th>\n",
       "      <td>0.000000</td>\n",
       "      <td>0.000000</td>\n",
       "      <td>0.0</td>\n",
       "      <td>0</td>\n",
       "    </tr>\n",
       "    <tr>\n",
       "      <th>1998-02-28</th>\n",
       "      <td>0.033409</td>\n",
       "      <td>0.033605</td>\n",
       "      <td>0.0</td>\n",
       "      <td>0</td>\n",
       "    </tr>\n",
       "    <tr>\n",
       "      <th>1998-03-31</th>\n",
       "      <td>0.019119</td>\n",
       "      <td>0.026428</td>\n",
       "      <td>0.0</td>\n",
       "      <td>0</td>\n",
       "    </tr>\n",
       "    <tr>\n",
       "      <th>1998-04-30</th>\n",
       "      <td>0.018792</td>\n",
       "      <td>0.027250</td>\n",
       "      <td>0.0</td>\n",
       "      <td>0</td>\n",
       "    </tr>\n",
       "    <tr>\n",
       "      <th>1998-05-31</th>\n",
       "      <td>0.024032</td>\n",
       "      <td>0.035573</td>\n",
       "      <td>0.0</td>\n",
       "      <td>0</td>\n",
       "    </tr>\n",
       "  </tbody>\n",
       "</table>\n",
       "</div>"
      ],
      "text/plain": [
       "               SP500     TOPIX  FTSE100  rf\n",
       "datetime                                   \n",
       "1998-01-31  0.000000  0.000000      0.0   0\n",
       "1998-02-28  0.033409  0.033605      0.0   0\n",
       "1998-03-31  0.019119  0.026428      0.0   0\n",
       "1998-04-30  0.018792  0.027250      0.0   0\n",
       "1998-05-31  0.024032  0.035573      0.0   0"
      ]
     },
     "execution_count": 41,
     "metadata": {},
     "output_type": "execute_result"
    }
   ],
   "source": [
    "# Get the Monthly vol under equally weighted condition\n",
    "SQ_vol_M=SQ_Vol_D\n",
    "SQ_vol_M=SQ_vol_M.resample('M').mean()\n",
    "SQ_vol_M.head()"
   ]
  },
  {
   "cell_type": "code",
   "execution_count": 42,
   "metadata": {
    "collapsed": false
   },
   "outputs": [
    {
     "data": {
      "text/html": [
       "<div>\n",
       "<table border=\"1\" class=\"dataframe\">\n",
       "  <thead>\n",
       "    <tr style=\"text-align: right;\">\n",
       "      <th></th>\n",
       "      <th>SP500</th>\n",
       "      <th>TOPIX</th>\n",
       "      <th>FTSE100</th>\n",
       "      <th>AvgVol</th>\n",
       "    </tr>\n",
       "    <tr>\n",
       "      <th>datetime</th>\n",
       "      <th></th>\n",
       "      <th></th>\n",
       "      <th></th>\n",
       "      <th></th>\n",
       "    </tr>\n",
       "  </thead>\n",
       "  <tbody>\n",
       "    <tr>\n",
       "      <th>2012-08-31</th>\n",
       "      <td>0.024318</td>\n",
       "      <td>0.027125</td>\n",
       "      <td>0.163390</td>\n",
       "      <td>0.071611</td>\n",
       "    </tr>\n",
       "    <tr>\n",
       "      <th>2012-09-30</th>\n",
       "      <td>0.010781</td>\n",
       "      <td>0.022703</td>\n",
       "      <td>0.152031</td>\n",
       "      <td>0.061838</td>\n",
       "    </tr>\n",
       "    <tr>\n",
       "      <th>2012-10-31</th>\n",
       "      <td>0.019354</td>\n",
       "      <td>0.029204</td>\n",
       "      <td>0.142191</td>\n",
       "      <td>0.063583</td>\n",
       "    </tr>\n",
       "    <tr>\n",
       "      <th>2012-11-30</th>\n",
       "      <td>0.018714</td>\n",
       "      <td>0.027171</td>\n",
       "      <td>0.138381</td>\n",
       "      <td>0.061422</td>\n",
       "    </tr>\n",
       "    <tr>\n",
       "      <th>2012-12-31</th>\n",
       "      <td>0.026331</td>\n",
       "      <td>0.025195</td>\n",
       "      <td>0.127567</td>\n",
       "      <td>0.059698</td>\n",
       "    </tr>\n",
       "  </tbody>\n",
       "</table>\n",
       "</div>"
      ],
      "text/plain": [
       "               SP500     TOPIX   FTSE100    AvgVol\n",
       "datetime                                          \n",
       "2012-08-31  0.024318  0.027125  0.163390  0.071611\n",
       "2012-09-30  0.010781  0.022703  0.152031  0.061838\n",
       "2012-10-31  0.019354  0.029204  0.142191  0.063583\n",
       "2012-11-30  0.018714  0.027171  0.138381  0.061422\n",
       "2012-12-31  0.026331  0.025195  0.127567  0.059698"
      ]
     },
     "execution_count": 42,
     "metadata": {},
     "output_type": "execute_result"
    }
   ],
   "source": [
    "# Drop rf\n",
    "SQeq2_volM=SQ_vol_M.drop(['rf'],axis=1)\n",
    "# Compute the aggregated vol\n",
    "SQeq2_volM['AvgVol']=(SQeq2_volM.sum(axis=1))/3\n",
    "SQeq2_volM.tail()"
   ]
  },
  {
   "cell_type": "code",
   "execution_count": 43,
   "metadata": {
    "collapsed": false
   },
   "outputs": [
    {
     "data": {
      "image/png": "[encoded data removed]",
      "text/plain": [
       "<matplotlib.figure.Figure at 0x115f17b50>"
      ]
     },
     "metadata": {},
     "output_type": "display_data"
    }
   ],
   "source": [
    "# Under equally weighted condition, similar as exponential weighted and GARCH(1,1)\n",
    "\n",
    "# Defind function to implement equation 2 in the paper\n",
    "SQRV_ratio = [0]*(len(SQeq2_volM['AvgVol'])-15)\n",
    "SQSP_RV_ratio = [0]*(len(SQeq2_volM['AvgVol'])-15)\n",
    "SQTOPIX_RV_ratio = [0]*(len(SQeq2_volM['AvgVol'])-15)\n",
    "SQFTSE_RV_ratio = [0]*(len(SQeq2_volM['AvgVol'])-15)\n",
    "\n",
    "for i in range(0,len(eq2_volM['AvgVol'])-15):\n",
    "    SQRV_ratio[i]=eq2_rM['SumReturn'][i+15]/SQeq2_volM['AvgVol'][i+14]\n",
    "    SQSP_RV_ratio[i]=eq2_rM['SP500'][i+15]/SQeq2_volM['SP500'][i+14]\n",
    "    SQTOPIX_RV_ratio[i]=eq2_rM['TOPIX'][i+15]/SQeq2_volM['TOPIX'][i+14]\n",
    "    SQFTSE_RV_ratio[i]=eq2_rM['FTSE100'][i+15]/SQeq2_volM['FTSE100'][i+14]\n",
    "\n",
    "# Aggregated under equally weighted condition\n",
    "#test Equity Index monthly data\n",
    "tstat = [0]*60\n",
    "for h in range (1,61): \n",
    "    X = SQRV_ratio[0:(len(SQRV_ratio)-h)] #lagged excess return as predictor\n",
    "    Y = SQRV_ratio[h:len(SQRV_ratio)]\n",
    "    # Create linear regression \n",
    "    data = pd.DataFrame({'x': X, 'y': Y})\n",
    "    model = smf.gls(\"y ~ x\", data).fit()\n",
    "    tstat[h-1] = model.tvalues[1]\n",
    "    #print(model.summary()) \n",
    "\n",
    "plt.bar(np.arange(len(tstat)),tstat)\n",
    "plt.xlabel('Lagged Month')\n",
    "plt.ylabel('T stats')\n",
    "plt.title(\"Aggregated Monthly Equity data by using square root\")\n",
    "plt.savefig(\"../Images/SQ_Aggregated_Monthly_Equity\")\n",
    "plt.show()\n"
   ]
  },
  {
   "cell_type": "code",
   "execution_count": 44,
   "metadata": {
    "collapsed": false
   },
   "outputs": [
    {
     "data": {
      "image/png": "[encoded data removed]",
      "text/plain": [
       "<matplotlib.figure.Figure at 0x115f1d110>"
      ]
     },
     "metadata": {},
     "output_type": "display_data"
    }
   ],
   "source": [
    "# SP500\n",
    "#test Equity Index monthly data\n",
    "tstat = [0]*60\n",
    "for h in range (1,61): \n",
    "    X = SQSP_RV_ratio[0:(len(SQSP_RV_ratio)-h)] #lagged excess return as predictor\n",
    "    Y = SQSP_RV_ratio[h:len(SQSP_RV_ratio)]\n",
    "    # Create linear regression \n",
    "    data = pd.DataFrame({'x': X, 'y': Y})\n",
    "    model = smf.gls(\"y ~ x\", data).fit()\n",
    "    tstat[h-1] = model.tvalues[1]\n",
    "    #print(model.summary()) \n",
    "\n",
    "plt.bar(np.arange(len(tstat)),tstat)\n",
    "plt.xlabel('Lagged Month')\n",
    "plt.ylabel('T stats')\n",
    "plt.title(\"SP500 Monthly Equity data by using square root\")\n",
    "plt.savefig(\"../Images/SQ_SP500_Monthly_Equity\")\n",
    "plt.show()\n"
   ]
  },
  {
   "cell_type": "code",
   "execution_count": 45,
   "metadata": {
    "collapsed": false
   },
   "outputs": [
    {
     "data": {
      "image/png": "[encoded data removed]",
      "text/plain": [
       "<matplotlib.figure.Figure at 0x115772750>"
      ]
     },
     "metadata": {},
     "output_type": "display_data"
    }
   ],
   "source": [
    "# TOPIX\n",
    "#test Equity Index monthly data\n",
    "tstat = [0]*60\n",
    "for h in range (1,61): \n",
    "    X = SQTOPIX_RV_ratio[0:(len(SQTOPIX_RV_ratio)-h)] #lagged excess return as predictor\n",
    "    Y = SQTOPIX_RV_ratio[h:len(SQTOPIX_RV_ratio)]\n",
    "    # Create linear regression \n",
    "    data = pd.DataFrame({'x': X, 'y': Y})\n",
    "    model = smf.gls(\"y ~ x\", data).fit()\n",
    "    tstat[h-1] = model.tvalues[1]\n",
    "    #print(model.summary()) \n",
    "\n",
    "plt.bar(np.arange(len(tstat)),tstat)\n",
    "plt.xlabel('Lagged Month')\n",
    "plt.ylabel('T stats')\n",
    "plt.title(\"TOPIX Monthly Equity data by using square root\")\n",
    "plt.savefig(\"../Images/SQ_TOPIX_Monthly_Equity\")\n",
    "plt.show()\n"
   ]
  },
  {
   "cell_type": "code",
   "execution_count": 46,
   "metadata": {
    "collapsed": false
   },
   "outputs": [
    {
     "data": {
      "image/png": "[encoded data removed]",
      "text/plain": [
       "<matplotlib.figure.Figure at 0x115ead390>"
      ]
     },
     "metadata": {},
     "output_type": "display_data"
    }
   ],
   "source": [
    "# FTSE100\n",
    "#test Equity Index monthly data\n",
    "tstat = [0]*60\n",
    "for h in range (1,61): \n",
    "    X = SQFTSE_RV_ratio[0:(len(SQFTSE_RV_ratio)-h)] #lagged excess return as predictor\n",
    "    Y = SQFTSE_RV_ratio[h:len(SQFTSE_RV_ratio)]\n",
    "    # Create linear regression \n",
    "    data = pd.DataFrame({'x': X, 'y': Y})\n",
    "    model = smf.gls(\"y ~ x\", data).fit()\n",
    "    tstat[h-1] = model.tvalues[1]\n",
    "    #print(model.summary()) \n",
    "\n",
    "plt.bar(np.arange(len(tstat)),tstat)\n",
    "plt.xlabel('Lagged Month')\n",
    "plt.ylabel('T stats')\n",
    "plt.title(\"FTSE Monthly Equity data by using square root\")\n",
    "plt.savefig(\"../Images/SQ_FTSE_Monthly_Equity\")\n",
    "plt.show()\n"
   ]
  },
  {
   "cell_type": "markdown",
   "metadata": {},
   "source": [
    "### Compute Sharpe ratio under equally weighted condition"
   ]
  },
  {
   "cell_type": "code",
   "execution_count": 47,
   "metadata": {
    "collapsed": false
   },
   "outputs": [
    {
     "data": {
      "text/html": [
       "<div>\n",
       "<table border=\"1\" class=\"dataframe\">\n",
       "  <thead>\n",
       "    <tr style=\"text-align: right;\">\n",
       "      <th></th>\n",
       "      <th>datetime</th>\n",
       "      <th>SP500</th>\n",
       "      <th>TOPIX</th>\n",
       "      <th>FTSE100</th>\n",
       "      <th>rf</th>\n",
       "      <th>rbar</th>\n",
       "      <th>MKT</th>\n",
       "      <th>BOND</th>\n",
       "      <th>GSCI</th>\n",
       "      <th>SMB</th>\n",
       "      <th>HML</th>\n",
       "      <th>UMD</th>\n",
       "      <th>SP500VOL</th>\n",
       "      <th>TOPIXVOL</th>\n",
       "      <th>FTSE100VOL</th>\n",
       "      <th>rfVOL</th>\n",
       "    </tr>\n",
       "  </thead>\n",
       "  <tbody>\n",
       "    <tr>\n",
       "      <th>3761</th>\n",
       "      <td>2012-12-24</td>\n",
       "      <td>-0.004346</td>\n",
       "      <td>-0.000068</td>\n",
       "      <td>0.002321</td>\n",
       "      <td>0.000068</td>\n",
       "      <td>0.000241</td>\n",
       "      <td>1338.336</td>\n",
       "      <td>109.03</td>\n",
       "      <td>4822.836</td>\n",
       "      <td>-0.20</td>\n",
       "      <td>-0.02</td>\n",
       "      <td>0.40</td>\n",
       "      <td>0.041953</td>\n",
       "      <td>0.000223</td>\n",
       "      <td>0.122179</td>\n",
       "      <td>0</td>\n",
       "    </tr>\n",
       "    <tr>\n",
       "      <th>3762</th>\n",
       "      <td>2012-12-26</td>\n",
       "      <td>-0.004505</td>\n",
       "      <td>0.011508</td>\n",
       "      <td>-0.000067</td>\n",
       "      <td>0.000067</td>\n",
       "      <td>0.000234</td>\n",
       "      <td>1335.981</td>\n",
       "      <td>109.07</td>\n",
       "      <td>4886.852</td>\n",
       "      <td>-0.17</td>\n",
       "      <td>0.34</td>\n",
       "      <td>-0.42</td>\n",
       "      <td>0.005122</td>\n",
       "      <td>0.013399</td>\n",
       "      <td>0.121243</td>\n",
       "      <td>0</td>\n",
       "    </tr>\n",
       "    <tr>\n",
       "      <th>3763</th>\n",
       "      <td>2012-12-27</td>\n",
       "      <td>-0.002047</td>\n",
       "      <td>0.007460</td>\n",
       "      <td>-0.000046</td>\n",
       "      <td>0.000066</td>\n",
       "      <td>0.000230</td>\n",
       "      <td>1336.299</td>\n",
       "      <td>109.27</td>\n",
       "      <td>4882.875</td>\n",
       "      <td>0.01</td>\n",
       "      <td>-0.18</td>\n",
       "      <td>0.28</td>\n",
       "      <td>0.014698</td>\n",
       "      <td>0.009062</td>\n",
       "      <td>0.120230</td>\n",
       "      <td>0</td>\n",
       "    </tr>\n",
       "    <tr>\n",
       "      <th>3764</th>\n",
       "      <td>2012-12-28</td>\n",
       "      <td>-0.018992</td>\n",
       "      <td>0.006620</td>\n",
       "      <td>-0.004924</td>\n",
       "      <td>0.000066</td>\n",
       "      <td>0.000147</td>\n",
       "      <td>1326.835</td>\n",
       "      <td>109.27</td>\n",
       "      <td>4872.715</td>\n",
       "      <td>0.46</td>\n",
       "      <td>0.00</td>\n",
       "      <td>0.33</td>\n",
       "      <td>0.023696</td>\n",
       "      <td>0.045207</td>\n",
       "      <td>0.119238</td>\n",
       "      <td>0</td>\n",
       "    </tr>\n",
       "    <tr>\n",
       "      <th>3765</th>\n",
       "      <td>2012-12-31</td>\n",
       "      <td>0.026017</td>\n",
       "      <td>-0.000067</td>\n",
       "      <td>-0.004718</td>\n",
       "      <td>0.000067</td>\n",
       "      <td>0.000066</td>\n",
       "      <td>1338.500</td>\n",
       "      <td>109.13</td>\n",
       "      <td>4889.008</td>\n",
       "      <td>0.42</td>\n",
       "      <td>-0.06</td>\n",
       "      <td>0.24</td>\n",
       "      <td>0.020838</td>\n",
       "      <td>0.035731</td>\n",
       "      <td>0.118702</td>\n",
       "      <td>0</td>\n",
       "    </tr>\n",
       "  </tbody>\n",
       "</table>\n",
       "</div>"
      ],
      "text/plain": [
       "       datetime     SP500     TOPIX   FTSE100        rf      rbar       MKT  \\\n",
       "3761 2012-12-24 -0.004346 -0.000068  0.002321  0.000068  0.000241  1338.336   \n",
       "3762 2012-12-26 -0.004505  0.011508 -0.000067  0.000067  0.000234  1335.981   \n",
       "3763 2012-12-27 -0.002047  0.007460 -0.000046  0.000066  0.000230  1336.299   \n",
       "3764 2012-12-28 -0.018992  0.006620 -0.004924  0.000066  0.000147  1326.835   \n",
       "3765 2012-12-31  0.026017 -0.000067 -0.004718  0.000067  0.000066  1338.500   \n",
       "\n",
       "        BOND      GSCI   SMB   HML   UMD  SP500VOL  TOPIXVOL  FTSE100VOL  \\\n",
       "3761  109.03  4822.836 -0.20 -0.02  0.40  0.041953  0.000223    0.122179   \n",
       "3762  109.07  4886.852 -0.17  0.34 -0.42  0.005122  0.013399    0.121243   \n",
       "3763  109.27  4882.875  0.01 -0.18  0.28  0.014698  0.009062    0.120230   \n",
       "3764  109.27  4872.715  0.46  0.00  0.33  0.023696  0.045207    0.119238   \n",
       "3765  109.13  4889.008  0.42 -0.06  0.24  0.020838  0.035731    0.118702   \n",
       "\n",
       "      rfVOL  \n",
       "3761      0  \n",
       "3762      0  \n",
       "3763      0  \n",
       "3764      0  \n",
       "3765      0  "
      ]
     },
     "execution_count": 47,
     "metadata": {},
     "output_type": "execute_result"
    }
   ],
   "source": [
    "# Compute equation 5 as other two ways\n",
    "# For k=12 and h=1\n",
    "profit_SP,ind_SP=eq4_regression(km=12,hm=1,name='SP500')\n",
    "vol_eq5=SQ_Vol_D.iloc[ind_SP]\n",
    "\n",
    "df_vol_e5=SQ_Vol_D.reset_index()\n",
    "df_vol_e5.columns=['datetime','SP500VOL','TOPIXVOL','FTSE100VOL','rfVOL']\n",
    "\n",
    "df_eq5=df_eq4.merge(df_vol_e5,on='datetime',how='inner').dropna()\n",
    "df_eq5.tail()"
   ]
  },
  {
   "cell_type": "code",
   "execution_count": 48,
   "metadata": {
    "collapsed": false
   },
   "outputs": [
    {
     "data": {
      "text/plain": [
       "-1.4041267926973091"
      ]
     },
     "execution_count": 48,
     "metadata": {},
     "output_type": "execute_result"
    }
   ],
   "source": [
    "# Compute Sharpe ratio for SP500\n",
    "# other two tick names are: TOPIX, and FTSE100\n",
    "name='SP500'\n",
    "name2='SP500VOL'\n",
    "profit_SP,ind_rf=eq5_implement(3,1,name,name2,df_eq5)\n",
    "# Get risk-free, benchmark rates\n",
    "rf_sr=df_eq5.iloc[ind_rf]['rf']\n",
    "# Get corresponding vol\n",
    "vol_sr=df_eq5.iloc[ind_rf][name2]\n",
    "vol_df=vol_sr.reset_index()\n",
    "rf_df=rf_sr.reset_index()\n",
    "\n",
    "excess_profit=[0]*len(profit_SP)\n",
    "for i in range(len(profit_SP)):\n",
    "    if(vol_df.iloc[i][name2]<>0):\n",
    "        excess_profit[i]=(profit_SP[i]-rf_df['rf'][i])\n",
    "S=np.average(excess_profit)/np.sqrt(np.var(excess_profit))\n",
    "# Sharp ratio\n",
    "# Annulized\n",
    "sharp_ratio=np.sqrt(261)*S \n",
    "sharp_ratio"
   ]
  },
  {
   "cell_type": "markdown",
   "metadata": {},
   "source": [
    "## Additional\n",
    "\n",
    "### Add regression with respect to sign(X)"
   ]
  },
  {
   "cell_type": "code",
   "execution_count": 49,
   "metadata": {
    "collapsed": false
   },
   "outputs": [
    {
     "data": {
      "image/png": "[encoded data removed]",
      "text/plain": [
       "<matplotlib.figure.Figure at 0x1165c0f90>"
      ]
     },
     "metadata": {},
     "output_type": "display_data"
    }
   ],
   "source": [
    "# Similar as other threes\n",
    "# Only difference is changing the X to np.sign(X)\n",
    "# Aggregated\n",
    "tstat = [0]*60\n",
    "for h in range (1,61): \n",
    "    X = np.sign(RV_ratio[0:(len(RV_ratio)-h)]) #lagged excess return as predictor\n",
    "    Y = RV_ratio[h:len(RV_ratio)]\n",
    "    # Create linear regression \n",
    "    data = pd.DataFrame({'x': X, 'y': Y})\n",
    "    model = smf.gls(\"y ~ x\", data).fit()\n",
    "    tstat[h-1] = model.tvalues[1]\n",
    "    #print(model.summary()) \n",
    "\n",
    "plt.bar(np.arange(len(tstat)),tstat)\n",
    "plt.xlabel('Lagged Month')\n",
    "plt.ylabel('T stats')\n",
    "plt.title(\"Aggregated Monthly Equity data with sign\")\n",
    "plt.savefig(\"../Images/Aggregated_Monthly_Equity_sign\")\n",
    "plt.show()"
   ]
  },
  {
   "cell_type": "code",
   "execution_count": 50,
   "metadata": {
    "collapsed": false
   },
   "outputs": [
    {
     "data": {
      "image/png": "[encoded data removed]",
      "text/plain": [
       "<matplotlib.figure.Figure at 0x11486bd90>"
      ]
     },
     "metadata": {},
     "output_type": "display_data"
    }
   ],
   "source": [
    "# SP500\n",
    "tstat = [0]*60\n",
    "for h in range (1,61): \n",
    "    X = np.sign(SP_RV_ratio[0:(len(SP_RV_ratio)-h)]) #lagged excess return as predictor\n",
    "    Y = SP_RV_ratio[h:len(SP_RV_ratio)]\n",
    "    # Create linear regression \n",
    "    data = pd.DataFrame({'x': X, 'y': Y})\n",
    "    model = smf.gls(\"y ~ x\", data).fit()\n",
    "    tstat[h-1] = model.tvalues[1]\n",
    "    #print(model.summary()) \n",
    "\n",
    "plt.bar(np.arange(len(tstat)),tstat)\n",
    "plt.xlabel('Lagged Month')\n",
    "plt.ylabel('T stats')\n",
    "plt.title(\"SP500 Monthly Equity data with sign\")\n",
    "plt.savefig(\"../Images/SP500_Monthly_Equity_sign\")\n",
    "plt.show()"
   ]
  },
  {
   "cell_type": "code",
   "execution_count": 51,
   "metadata": {
    "collapsed": false
   },
   "outputs": [
    {
     "name": "stdout",
     "output_type": "stream",
     "text": [
      "Running time of notebook: 277.095076084 seconds\n"
     ]
    }
   ],
   "source": [
    "endTALL=time.time()\n",
    "print('Running time of notebook: %s seconds' %(endTALL-startTALL))\n"
   ]
  }
 ],
 "metadata": {
  "celltoolbar": "Raw Cell Format",
  "kernelspec": {
   "display_name": "Python 2",
   "language": "python",
   "name": "python2"
  },
  "language_info": {
   "codemirror_mode": {
    "name": "ipython",
    "version": 2
   },
   "file_extension": ".py",
   "mimetype": "text/x-python",
   "name": "python",
   "nbconvert_exporter": "python",
   "pygments_lexer": "ipython2",
   "version": "2.7.13"
  }
 },
 "nbformat": 4,
 "nbformat_minor": 0
}
