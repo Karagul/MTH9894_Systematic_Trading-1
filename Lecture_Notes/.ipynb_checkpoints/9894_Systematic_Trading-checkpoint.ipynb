{
 "cells": [
  {
   "cell_type": "markdown",
   "metadata": {},
   "source": [
    "## Lecture Notes"
   ]
  },
  {
   "cell_type": "markdown",
   "metadata": {},
   "source": [
    "### Lecture 1"
   ]
  },
  {
   "cell_type": "markdown",
   "metadata": {},
   "source": [
    "* Basic info\n",
    "    * dmitry.Rakhlin@gs.com\n",
    "    * dmitry.Rakhlin@gmail.com\n",
    "    * 917-343-535\n",
    "    * Final project: 4h presentation\n"
   ]
  },
  {
   "cell_type": "markdown",
   "metadata": {},
   "source": [
    "Final projects:\n",
    "* 15 min present: May 25th\n",
    "* 4.27: strategy should be clear and decide"
   ]
  },
  {
   "cell_type": "markdown",
   "metadata": {},
   "source": [
    "Fama-MacBeth 2 stage regression\n",
    "\n",
    "$R_t^m$: Usually assume S&P500 returns\n",
    "\n",
    "cross-sectional data:\n",
    "$R_{\\text{next month}}^j$ is a vector, j-th vector"
   ]
  },
  {
   "cell_type": "markdown",
   "metadata": {},
   "source": [
    "$2\\times3$ portfolios: \n",
    "3 factor model\n",
    "\n",
    "Var($R_{t_i}$)\n",
    "\n",
    "Var($\\epsilon_i$)\n",
    "\n",
    "Portfolio P:\n",
    "$P=\\alpha+\\beta R_M+\\epsilon_P$\n",
    "\n",
    "If add SMB and HML, the variance of updated residuals explain 90% of the return s of diversified portfolios."
   ]
  },
  {
   "cell_type": "markdown",
   "metadata": {},
   "source": [
    "** Statistical Arbitrage framework**\n",
    "\n",
    "* $X_t$ is stationary and mean-reverting process. \n",
    "OU process is stationary and mean reversing process\n",
    "\n",
    "* $X_t$ is the residual of $P_t \\sim Q_t$\n",
    "\n",
    "* T-costs: transaction costs\n",
    "\n"
   ]
  },
  {
   "cell_type": "markdown",
   "metadata": {},
   "source": [
    "**PCA decomposition**\n",
    "\n",
    "* Use smallest eigenvectors ri calculate minimum variance portfolio\n",
    "\n",
    "* The more time of the data, the more biased (from Machine Learning)"
   ]
  },
  {
   "cell_type": "markdown",
   "metadata": {},
   "source": [
    "**Radom Matrix Theory**\n",
    "\n",
    "\n",
    "* PCA: Use (1st) 2nd, and 3rd largest eigenvectors do Eigenvector analysis\n",
    "\n",
    "* Sector Decomposition (Alternative to PCA)\n",
    "    * Cyclical: do not need to survive (life): $\\beta>1$\n",
    "    * Defensive: $\\beta>1$\n",
    "    * Sensitive: $\\beta=1$\n"
   ]
  },
  {
   "cell_type": "markdown",
   "metadata": {},
   "source": [
    "**Modeling of residual returns**\n",
    "\n",
    "* Residual $X_t$ is OU process (big assumption)\n",
    "\n",
    "* In the lecture notes, $m$ is $\\mu$ in OU process\n"
   ]
  },
  {
   "cell_type": "markdown",
   "metadata": {},
   "source": [
    "** Sell short: borrow from someone**\n",
    "\n",
    "* Short selling is the sale of a security that is not owned by the seller, or that the seller has borrowed. Short selling is motivated by the belief that a security's price will decline, enabling it to be bought back at a lower price to make a profit."
   ]
  },
  {
   "cell_type": "markdown",
   "metadata": {},
   "source": [
    "**Backtesting procedure**\n",
    "\n",
    "* Allowed loss $\\rightarrow$ risk $\\rightarrow$ sharp ratio "
   ]
  },
  {
   "cell_type": "markdown",
   "metadata": {},
   "source": [
    "**Trading time VS actual time**\n",
    "\n",
    "* Trading time: include volume information\n",
    "    * Returns are much more normal from lognormal"
   ]
  },
  {
   "cell_type": "markdown",
   "metadata": {},
   "source": [
    "** Trading time VS Actual time paper as final project**\n",
    "\n",
    "* Attilio Meucci - Review of Statistical Arbitrage\n",
    "    * Paper and Matlab code: https://www.arpm.co/articles/review-of-statistical-arbitrage-cointegration-and-multivariate-ornstein-uhlenbeck/\n",
    "\n",
    "* Improvement\n",
    "    * P35 in Lecture notes 1\n",
    "    * Russell 1000"
   ]
  },
  {
   "cell_type": "markdown",
   "metadata": {
    "collapsed": true
   },
   "source": [
    "### Lecture 2"
   ]
  },
  {
   "cell_type": "markdown",
   "metadata": {},
   "source": [
    "* Specific strategies:\n",
    "    * Bullet 3-7 in Reading matrials"
   ]
  },
  {
   "cell_type": "markdown",
   "metadata": {},
   "source": [
    " "
   ]
  },
  {
   "cell_type": "markdown",
   "metadata": {},
   "source": [
    " "
   ]
  },
  {
   "cell_type": "markdown",
   "metadata": {},
   "source": [
    " "
   ]
  },
  {
   "cell_type": "markdown",
   "metadata": {},
   "source": [
    " \n",
    " "
   ]
  },
  {
   "cell_type": "markdown",
   "metadata": {},
   "source": [
    " "
   ]
  },
  {
   "cell_type": "markdown",
   "metadata": {},
   "source": [
    " \n",
    " "
   ]
  }
 ],
 "metadata": {
  "celltoolbar": "Slideshow",
  "kernelspec": {
   "display_name": "Python [conda root]",
   "language": "python",
   "name": "conda-root-py"
  },
  "language_info": {
   "codemirror_mode": {
    "name": "ipython",
    "version": 3
   },
   "file_extension": ".py",
   "mimetype": "text/x-python",
   "name": "python",
   "nbconvert_exporter": "python",
   "pygments_lexer": "ipython3",
   "version": "3.5.2"
  }
 },
 "nbformat": 4,
 "nbformat_minor": 2
}
